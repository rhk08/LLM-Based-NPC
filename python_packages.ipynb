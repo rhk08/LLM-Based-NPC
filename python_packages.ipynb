{
 "cells": [
  {
   "cell_type": "code",
   "execution_count": null,
   "metadata": {},
   "outputs": [],
   "source": [
    "pip list"
   ]
  },
  {
   "cell_type": "code",
   "execution_count": null,
   "metadata": {},
   "outputs": [],
   "source": [
    "pip install -r requirements.txt"
   ]
  },
  {
   "cell_type": "code",
   "execution_count": null,
   "metadata": {},
   "outputs": [],
   "source": [
    "pip install git+https://github.com/openai/whisper.git "
   ]
  },
  {
   "cell_type": "code",
   "execution_count": null,
   "metadata": {},
   "outputs": [],
   "source": [
    "pip install --upgrade --no-deps --force-reinstall git+https://github.com/openai/whisper.git"
   ]
  },
  {
   "cell_type": "code",
   "execution_count": null,
   "metadata": {},
   "outputs": [],
   "source": [
    "pip install torch torchvision torchaudio --index-url https://download.pytorch.org/whl/cu121"
   ]
  },
  {
   "cell_type": "code",
   "execution_count": null,
   "metadata": {},
   "outputs": [],
   "source": [
    "pip install -r OpenVoice/requirements.txt"
   ]
  },
  {
   "cell_type": "code",
   "execution_count": null,
   "metadata": {},
   "outputs": [],
   "source": [
    "pip install git+https://github.com/myshell-ai/MeloTTS.git"
   ]
  },
  {
   "cell_type": "code",
   "execution_count": null,
   "metadata": {},
   "outputs": [],
   "source": [
    "!python -m unidic download"
   ]
  },
  {
   "cell_type": "code",
   "execution_count": null,
   "metadata": {},
   "outputs": [],
   "source": [
    "pip install langchain-core langgraph >= 0.2.28"
   ]
  },
  {
   "cell_type": "code",
   "execution_count": null,
   "metadata": {},
   "outputs": [],
   "source": [
    "pip install -qU langchain-cohere"
   ]
  },
  {
   "cell_type": "code",
   "execution_count": null,
   "metadata": {},
   "outputs": [],
   "source": [
    "pip install git+https://github.com/myshell-ai/MeloTTS.git"
   ]
  },
  {
   "cell_type": "code",
   "execution_count": null,
   "metadata": {},
   "outputs": [],
   "source": [
    "!python -m unidic download"
   ]
  },
  {
   "cell_type": "code",
   "execution_count": null,
   "metadata": {},
   "outputs": [],
   "source": [
    "pip show dtw-python"
   ]
  },
  {
   "cell_type": "code",
   "execution_count": null,
   "metadata": {},
   "outputs": [],
   "source": [
    "pip show faster_whisper"
   ]
  },
  {
   "cell_type": "code",
   "execution_count": null,
   "metadata": {},
   "outputs": [],
   "source": [
    "pip install dtw-python==1.1.12"
   ]
  },
  {
   "cell_type": "code",
   "execution_count": 5,
   "metadata": {},
   "outputs": [
    {
     "name": "stdout",
     "output_type": "stream",
     "text": [
      "Collecting langgraph-checkpoint-sqlite\n",
      "  Downloading langgraph_checkpoint_sqlite-2.0.0-py3-none-any.whl (12 kB)\n",
      "Requirement already satisfied: langchain_core in c:\\users\\ryanz\\desktop\\llm-based-npc\\.venv\\lib\\site-packages (0.3.8)\n",
      "Requirement already satisfied: langgraph in c:\\users\\ryanz\\desktop\\llm-based-npc\\.venv\\lib\\site-packages (0.2.34)\n",
      "Collecting langchain_openai\n",
      "  Downloading langchain_openai-0.2.2-py3-none-any.whl (49 kB)\n",
      "     ---------------------------------------- 49.7/49.7 kB 2.5 MB/s eta 0:00:00\n",
      "Requirement already satisfied: langgraph-checkpoint<3.0.0,>=2.0.0 in c:\\users\\ryanz\\desktop\\llm-based-npc\\.venv\\lib\\site-packages (from langgraph-checkpoint-sqlite) (2.0.0)\n",
      "Collecting aiosqlite<0.21.0,>=0.20.0\n",
      "  Downloading aiosqlite-0.20.0-py3-none-any.whl (15 kB)\n",
      "Requirement already satisfied: typing-extensions>=4.7 in c:\\users\\ryanz\\desktop\\llm-based-npc\\.venv\\lib\\site-packages (from langchain_core) (4.12.2)\n",
      "Requirement already satisfied: PyYAML>=5.3 in c:\\users\\ryanz\\desktop\\llm-based-npc\\.venv\\lib\\site-packages (from langchain_core) (6.0.2)\n",
      "Requirement already satisfied: packaging<25,>=23.2 in c:\\users\\ryanz\\desktop\\llm-based-npc\\.venv\\lib\\site-packages (from langchain_core) (24.1)\n",
      "Requirement already satisfied: pydantic<3.0.0,>=2.5.2 in c:\\users\\ryanz\\desktop\\llm-based-npc\\.venv\\lib\\site-packages (from langchain_core) (2.8.2)\n",
      "Requirement already satisfied: tenacity!=8.4.0,<9.0.0,>=8.1.0 in c:\\users\\ryanz\\desktop\\llm-based-npc\\.venv\\lib\\site-packages (from langchain_core) (8.5.0)\n",
      "Requirement already satisfied: langsmith<0.2.0,>=0.1.125 in c:\\users\\ryanz\\desktop\\llm-based-npc\\.venv\\lib\\site-packages (from langchain_core) (0.1.130)\n",
      "Requirement already satisfied: jsonpatch<2.0,>=1.33 in c:\\users\\ryanz\\desktop\\llm-based-npc\\.venv\\lib\\site-packages (from langchain_core) (1.33)\n",
      "Requirement already satisfied: openai<2.0.0,>=1.40.0 in c:\\users\\ryanz\\desktop\\llm-based-npc\\.venv\\lib\\site-packages (from langchain_openai) (1.50.0)\n",
      "Collecting langchain_core\n",
      "  Downloading langchain_core-0.3.10-py3-none-any.whl (404 kB)\n",
      "     -------------------------------------- 404.4/404.4 kB 6.3 MB/s eta 0:00:00\n",
      "Requirement already satisfied: tiktoken<1,>=0.7 in c:\\users\\ryanz\\desktop\\llm-based-npc\\.venv\\lib\\site-packages (from langchain_openai) (0.7.0)\n",
      "Requirement already satisfied: jsonpointer>=1.9 in c:\\users\\ryanz\\desktop\\llm-based-npc\\.venv\\lib\\site-packages (from jsonpatch<2.0,>=1.33->langchain_core) (3.0.0)\n",
      "Requirement already satisfied: msgpack<2.0.0,>=1.1.0 in c:\\users\\ryanz\\desktop\\llm-based-npc\\.venv\\lib\\site-packages (from langgraph-checkpoint<3.0.0,>=2.0.0->langgraph-checkpoint-sqlite) (1.1.0)\n",
      "Requirement already satisfied: orjson<4.0.0,>=3.9.14 in c:\\users\\ryanz\\desktop\\llm-based-npc\\.venv\\lib\\site-packages (from langsmith<0.2.0,>=0.1.125->langchain_core) (3.10.7)\n",
      "Requirement already satisfied: requests-toolbelt<2.0.0,>=1.0.0 in c:\\users\\ryanz\\desktop\\llm-based-npc\\.venv\\lib\\site-packages (from langsmith<0.2.0,>=0.1.125->langchain_core) (1.0.0)\n",
      "Requirement already satisfied: httpx<1,>=0.23.0 in c:\\users\\ryanz\\desktop\\llm-based-npc\\.venv\\lib\\site-packages (from langsmith<0.2.0,>=0.1.125->langchain_core) (0.27.1)\n",
      "Requirement already satisfied: requests<3,>=2 in c:\\users\\ryanz\\desktop\\llm-based-npc\\.venv\\lib\\site-packages (from langsmith<0.2.0,>=0.1.125->langchain_core) (2.32.3)\n",
      "Requirement already satisfied: jiter<1,>=0.4.0 in c:\\users\\ryanz\\desktop\\llm-based-npc\\.venv\\lib\\site-packages (from openai<2.0.0,>=1.40.0->langchain_openai) (0.5.0)\n",
      "Requirement already satisfied: anyio<5,>=3.5.0 in c:\\users\\ryanz\\desktop\\llm-based-npc\\.venv\\lib\\site-packages (from openai<2.0.0,>=1.40.0->langchain_openai) (4.4.0)\n",
      "Requirement already satisfied: tqdm>4 in c:\\users\\ryanz\\desktop\\llm-based-npc\\.venv\\lib\\site-packages (from openai<2.0.0,>=1.40.0->langchain_openai) (4.66.5)\n",
      "Requirement already satisfied: sniffio in c:\\users\\ryanz\\desktop\\llm-based-npc\\.venv\\lib\\site-packages (from openai<2.0.0,>=1.40.0->langchain_openai) (1.3.1)\n",
      "Requirement already satisfied: distro<2,>=1.7.0 in c:\\users\\ryanz\\desktop\\llm-based-npc\\.venv\\lib\\site-packages (from openai<2.0.0,>=1.40.0->langchain_openai) (1.9.0)\n",
      "Requirement already satisfied: annotated-types>=0.4.0 in c:\\users\\ryanz\\desktop\\llm-based-npc\\.venv\\lib\\site-packages (from pydantic<3.0.0,>=2.5.2->langchain_core) (0.7.0)\n",
      "Requirement already satisfied: pydantic-core==2.20.1 in c:\\users\\ryanz\\desktop\\llm-based-npc\\.venv\\lib\\site-packages (from pydantic<3.0.0,>=2.5.2->langchain_core) (2.20.1)\n",
      "Requirement already satisfied: regex>=2022.1.18 in c:\\users\\ryanz\\desktop\\llm-based-npc\\.venv\\lib\\site-packages (from tiktoken<1,>=0.7->langchain_openai) (2024.9.11)\n",
      "Requirement already satisfied: exceptiongroup>=1.0.2 in c:\\users\\ryanz\\desktop\\llm-based-npc\\.venv\\lib\\site-packages (from anyio<5,>=3.5.0->openai<2.0.0,>=1.40.0->langchain_openai) (1.2.2)\n",
      "Requirement already satisfied: idna>=2.8 in c:\\users\\ryanz\\desktop\\llm-based-npc\\.venv\\lib\\site-packages (from anyio<5,>=3.5.0->openai<2.0.0,>=1.40.0->langchain_openai) (3.8)\n",
      "Requirement already satisfied: httpcore==1.* in c:\\users\\ryanz\\desktop\\llm-based-npc\\.venv\\lib\\site-packages (from httpx<1,>=0.23.0->langsmith<0.2.0,>=0.1.125->langchain_core) (1.0.5)\n",
      "Requirement already satisfied: certifi in c:\\users\\ryanz\\desktop\\llm-based-npc\\.venv\\lib\\site-packages (from httpx<1,>=0.23.0->langsmith<0.2.0,>=0.1.125->langchain_core) (2024.7.4)\n",
      "Requirement already satisfied: h11<0.15,>=0.13 in c:\\users\\ryanz\\desktop\\llm-based-npc\\.venv\\lib\\site-packages (from httpcore==1.*->httpx<1,>=0.23.0->langsmith<0.2.0,>=0.1.125->langchain_core) (0.14.0)\n",
      "Requirement already satisfied: charset-normalizer<4,>=2 in c:\\users\\ryanz\\desktop\\llm-based-npc\\.venv\\lib\\site-packages (from requests<3,>=2->langsmith<0.2.0,>=0.1.125->langchain_core) (3.3.2)\n",
      "Requirement already satisfied: urllib3<3,>=1.21.1 in c:\\users\\ryanz\\desktop\\llm-based-npc\\.venv\\lib\\site-packages (from requests<3,>=2->langsmith<0.2.0,>=0.1.125->langchain_core) (2.2.2)\n",
      "Requirement already satisfied: colorama in c:\\users\\ryanz\\desktop\\llm-based-npc\\.venv\\lib\\site-packages (from tqdm>4->openai<2.0.0,>=1.40.0->langchain_openai) (0.4.6)\n",
      "Installing collected packages: aiosqlite, langchain_core, langchain_openai, langgraph-checkpoint-sqlite\n",
      "  Attempting uninstall: langchain_core\n",
      "    Found existing installation: langchain-core 0.3.8\n",
      "    Uninstalling langchain-core-0.3.8:\n",
      "      Successfully uninstalled langchain-core-0.3.8\n",
      "Successfully installed aiosqlite-0.20.0 langchain_core-0.3.10 langchain_openai-0.2.2 langgraph-checkpoint-sqlite-2.0.0\n",
      "Note: you may need to restart the kernel to use updated packages.\n"
     ]
    },
    {
     "name": "stderr",
     "output_type": "stream",
     "text": [
      "ERROR: pip's dependency resolver does not currently take into account all the packages that are installed. This behaviour is the source of the following dependency conflicts.\n",
      "langchain-chroma 0.1.2 requires langchain-core<0.3,>=0.1.40, but you have langchain-core 0.3.10 which is incompatible.\n",
      "\n",
      "[notice] A new release of pip available: 22.2.1 -> 24.2\n",
      "[notice] To update, run: python.exe -m pip install --upgrade pip\n"
     ]
    }
   ],
   "source": [
    "pip install langgraph-checkpoint-sqlite langchain_core langgraph langchain_openai"
   ]
  },
  {
   "cell_type": "code",
   "execution_count": 1,
   "metadata": {},
   "outputs": [
    {
     "name": "stdout",
     "output_type": "stream",
     "text": [
      "Note: you may need to restart the kernel to use updated packages.\n"
     ]
    }
   ],
   "source": [
    "pip freeze > requirements.txt"
   ]
  },
  {
   "cell_type": "code",
   "execution_count": 2,
   "metadata": {},
   "outputs": [
    {
     "name": "stdout",
     "output_type": "stream",
     "text": [
      "Note: you may need to restart the kernel to use updated packages.\n"
     ]
    },
    {
     "name": "stderr",
     "output_type": "stream",
     "text": [
      "\n",
      "[notice] A new release of pip available: 22.2.1 -> 24.2\n",
      "[notice] To update, run: python.exe -m pip install --upgrade pip\n"
     ]
    }
   ],
   "source": [
    "pip list >> requirements.txt"
   ]
  }
 ],
 "metadata": {
  "kernelspec": {
   "display_name": ".venv",
   "language": "python",
   "name": "python3"
  },
  "language_info": {
   "codemirror_mode": {
    "name": "ipython",
    "version": 3
   },
   "file_extension": ".py",
   "mimetype": "text/x-python",
   "name": "python",
   "nbconvert_exporter": "python",
   "pygments_lexer": "ipython3",
   "version": "3.10.6"
  }
 },
 "nbformat": 4,
 "nbformat_minor": 2
}
