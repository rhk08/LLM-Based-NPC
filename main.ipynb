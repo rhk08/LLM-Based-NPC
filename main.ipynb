{
 "cells": [
  {
   "cell_type": "code",
   "execution_count": 1,
   "metadata": {},
   "outputs": [
    {
     "name": "stderr",
     "output_type": "stream",
     "text": [
      "c:\\Users\\ryanz\\Desktop\\LLM-Based-NPC\\.venv\\lib\\site-packages\\pydantic\\_internal\\_config.py:341: UserWarning: Valid config keys have changed in V2:\n",
      "* 'allow_population_by_field_name' has been renamed to 'populate_by_name'\n",
      "* 'smart_union' has been removed\n",
      "  warnings.warn(message, UserWarning)\n",
      "c:\\Users\\ryanz\\Desktop\\LLM-Based-NPC\\.venv\\lib\\site-packages\\whisper\\__init__.py:146: FutureWarning: You are using `torch.load` with `weights_only=False` (the current default value), which uses the default pickle module implicitly. It is possible to construct malicious pickle data which will execute arbitrary code during unpickling (See https://github.com/pytorch/pytorch/blob/main/SECURITY.md#untrusted-models for more details). In a future release, the default value for `weights_only` will be flipped to `True`. This limits the functions that could be executed during unpickling. Arbitrary objects will no longer be allowed to be loaded via this mode unless they are explicitly allowlisted by the user via `torch.serialization.add_safe_globals`. We recommend you start setting `weights_only=True` for any use case where you don't have full control of the loaded file. Please open an issue on GitHub for any issues related to this experimental feature.\n",
      "  checkpoint = torch.load(fp, map_location=device)\n"
     ]
    },
    {
     "name": "stdout",
     "output_type": "stream",
     "text": [
      "Press and hold the spacebar to record.\n",
      "Release the spacebar to stop recording.\n",
      "Press Esc to terminate the program.\n",
      "Recording started...\n",
      "Recording saved to ./recordings\\output.wav\n",
      "Transcribing ./recordings\\output.wav...\n",
      "Transcription completed.\n",
      " Hello, how are you?\n",
      "AI Response: Hi there! I'm John, your friendly AI assistant. I don't have emotions or feelings like humans, but I'm ready to assist you with any questions or tasks you might have. How can I help you today?\n",
      "Recording started...\n",
      "Recording saved to ./recordings\\output.wav\n",
      "Transcribing ./recordings\\output.wav...\n",
      "Transcription completed.\n",
      " What is your name?\n",
      "AI Response: My name is John. How can I help you today?\n"
     ]
    },
    {
     "ename": "KeyboardInterrupt",
     "evalue": "",
     "output_type": "error",
     "traceback": [
      "\u001b[1;31m---------------------------------------------------------------------------\u001b[0m",
      "\u001b[1;31mKeyboardInterrupt\u001b[0m                         Traceback (most recent call last)",
      "Cell \u001b[1;32mIn[1], line 40\u001b[0m\n\u001b[0;32m     37\u001b[0m         recorder\u001b[38;5;241m.\u001b[39mcleanup()\n\u001b[0;32m     39\u001b[0m \u001b[38;5;28;01mif\u001b[39;00m \u001b[38;5;18m__name__\u001b[39m \u001b[38;5;241m==\u001b[39m \u001b[38;5;124m\"\u001b[39m\u001b[38;5;124m__main__\u001b[39m\u001b[38;5;124m\"\u001b[39m:\n\u001b[1;32m---> 40\u001b[0m     \u001b[43mlisten_for_key\u001b[49m\u001b[43m(\u001b[49m\u001b[43m)\u001b[49m\n",
      "Cell \u001b[1;32mIn[1], line 31\u001b[0m, in \u001b[0;36mlisten_for_key\u001b[1;34m()\u001b[0m\n\u001b[0;32m     28\u001b[0m     \u001b[38;5;28mprint\u001b[39m(\u001b[38;5;124m\"\u001b[39m\u001b[38;5;124mAI Response:\u001b[39m\u001b[38;5;124m\"\u001b[39m, ai_response)\n\u001b[0;32m     30\u001b[0m \u001b[38;5;66;03m# If the Esc key is pressed, terminate the program\u001b[39;00m\n\u001b[1;32m---> 31\u001b[0m \u001b[38;5;28;01mif\u001b[39;00m \u001b[43mkeyboard\u001b[49m\u001b[38;5;241;43m.\u001b[39;49m\u001b[43mis_pressed\u001b[49m\u001b[43m(\u001b[49m\u001b[38;5;124;43m'\u001b[39;49m\u001b[38;5;124;43mesc\u001b[39;49m\u001b[38;5;124;43m'\u001b[39;49m\u001b[43m)\u001b[49m:\n\u001b[0;32m     32\u001b[0m     \u001b[38;5;28;01mif\u001b[39;00m recorder\u001b[38;5;241m.\u001b[39mrecording:\n\u001b[0;32m     33\u001b[0m         recorder\u001b[38;5;241m.\u001b[39mstop_recording()\n",
      "File \u001b[1;32mc:\\Users\\ryanz\\Desktop\\LLM-Based-NPC\\.venv\\lib\\site-packages\\keyboard\\__init__.py:417\u001b[0m, in \u001b[0;36mis_pressed\u001b[1;34m(hotkey)\u001b[0m\n\u001b[0;32m    414\u001b[0m     \u001b[38;5;28;01mwith\u001b[39;00m _pressed_events_lock:\n\u001b[0;32m    415\u001b[0m         \u001b[38;5;28;01mreturn\u001b[39;00m hotkey \u001b[38;5;129;01min\u001b[39;00m _pressed_events\n\u001b[1;32m--> 417\u001b[0m steps \u001b[38;5;241m=\u001b[39m \u001b[43mparse_hotkey\u001b[49m\u001b[43m(\u001b[49m\u001b[43mhotkey\u001b[49m\u001b[43m)\u001b[49m\n\u001b[0;32m    418\u001b[0m \u001b[38;5;28;01mif\u001b[39;00m \u001b[38;5;28mlen\u001b[39m(steps) \u001b[38;5;241m>\u001b[39m \u001b[38;5;241m1\u001b[39m:\n\u001b[0;32m    419\u001b[0m     \u001b[38;5;28;01mraise\u001b[39;00m \u001b[38;5;167;01mValueError\u001b[39;00m(\u001b[38;5;124m\"\u001b[39m\u001b[38;5;124mImpossible to check if multi-step hotkeys are pressed (`a+b` is ok, `a, b` isn\u001b[39m\u001b[38;5;124m'\u001b[39m\u001b[38;5;124mt).\u001b[39m\u001b[38;5;124m\"\u001b[39m)\n",
      "File \u001b[1;32mc:\\Users\\ryanz\\Desktop\\LLM-Based-NPC\\.venv\\lib\\site-packages\\keyboard\\__init__.py:358\u001b[0m, in \u001b[0;36mparse_hotkey\u001b[1;34m(hotkey)\u001b[0m\n\u001b[0;32m    356\u001b[0m \u001b[38;5;28;01mfor\u001b[39;00m step \u001b[38;5;129;01min\u001b[39;00m _re\u001b[38;5;241m.\u001b[39msplit(\u001b[38;5;124mr\u001b[39m\u001b[38;5;124m'\u001b[39m\u001b[38;5;124m,\u001b[39m\u001b[38;5;124m\\\u001b[39m\u001b[38;5;124ms?\u001b[39m\u001b[38;5;124m'\u001b[39m, hotkey):\n\u001b[0;32m    357\u001b[0m     keys \u001b[38;5;241m=\u001b[39m _re\u001b[38;5;241m.\u001b[39msplit(\u001b[38;5;124mr\u001b[39m\u001b[38;5;124m'\u001b[39m\u001b[38;5;124m\\\u001b[39m\u001b[38;5;124ms?\u001b[39m\u001b[38;5;124m\\\u001b[39m\u001b[38;5;124m+\u001b[39m\u001b[38;5;124m\\\u001b[39m\u001b[38;5;124ms?\u001b[39m\u001b[38;5;124m'\u001b[39m, step)\n\u001b[1;32m--> 358\u001b[0m     steps\u001b[38;5;241m.\u001b[39mappend(\u001b[38;5;28;43mtuple\u001b[39;49m\u001b[43m(\u001b[49m\u001b[43mkey_to_scan_codes\u001b[49m\u001b[43m(\u001b[49m\u001b[43mkey\u001b[49m\u001b[43m)\u001b[49m\u001b[43m \u001b[49m\u001b[38;5;28;43;01mfor\u001b[39;49;00m\u001b[43m \u001b[49m\u001b[43mkey\u001b[49m\u001b[43m \u001b[49m\u001b[38;5;129;43;01min\u001b[39;49;00m\u001b[43m \u001b[49m\u001b[43mkeys\u001b[49m\u001b[43m)\u001b[49m)\n\u001b[0;32m    359\u001b[0m \u001b[38;5;28;01mreturn\u001b[39;00m \u001b[38;5;28mtuple\u001b[39m(steps)\n",
      "File \u001b[1;32mc:\\Users\\ryanz\\Desktop\\LLM-Based-NPC\\.venv\\lib\\site-packages\\keyboard\\__init__.py:358\u001b[0m, in \u001b[0;36m<genexpr>\u001b[1;34m(.0)\u001b[0m\n\u001b[0;32m    356\u001b[0m \u001b[38;5;28;01mfor\u001b[39;00m step \u001b[38;5;129;01min\u001b[39;00m _re\u001b[38;5;241m.\u001b[39msplit(\u001b[38;5;124mr\u001b[39m\u001b[38;5;124m'\u001b[39m\u001b[38;5;124m,\u001b[39m\u001b[38;5;124m\\\u001b[39m\u001b[38;5;124ms?\u001b[39m\u001b[38;5;124m'\u001b[39m, hotkey):\n\u001b[0;32m    357\u001b[0m     keys \u001b[38;5;241m=\u001b[39m _re\u001b[38;5;241m.\u001b[39msplit(\u001b[38;5;124mr\u001b[39m\u001b[38;5;124m'\u001b[39m\u001b[38;5;124m\\\u001b[39m\u001b[38;5;124ms?\u001b[39m\u001b[38;5;124m\\\u001b[39m\u001b[38;5;124m+\u001b[39m\u001b[38;5;124m\\\u001b[39m\u001b[38;5;124ms?\u001b[39m\u001b[38;5;124m'\u001b[39m, step)\n\u001b[1;32m--> 358\u001b[0m     steps\u001b[38;5;241m.\u001b[39mappend(\u001b[38;5;28mtuple\u001b[39m(\u001b[43mkey_to_scan_codes\u001b[49m\u001b[43m(\u001b[49m\u001b[43mkey\u001b[49m\u001b[43m)\u001b[49m \u001b[38;5;28;01mfor\u001b[39;00m key \u001b[38;5;129;01min\u001b[39;00m keys))\n\u001b[0;32m    359\u001b[0m \u001b[38;5;28;01mreturn\u001b[39;00m \u001b[38;5;28mtuple\u001b[39m(steps)\n",
      "File \u001b[1;32mc:\\Users\\ryanz\\Desktop\\LLM-Based-NPC\\.venv\\lib\\site-packages\\keyboard\\__init__.py:317\u001b[0m, in \u001b[0;36mkey_to_scan_codes\u001b[1;34m(key, error_if_missing)\u001b[0m\n\u001b[0;32m    313\u001b[0m     \u001b[38;5;28;01mreturn\u001b[39;00m left_scan_codes \u001b[38;5;241m+\u001b[39m \u001b[38;5;28mtuple\u001b[39m(c \u001b[38;5;28;01mfor\u001b[39;00m c \u001b[38;5;129;01min\u001b[39;00m right_scan_codes \u001b[38;5;28;01mif\u001b[39;00m c \u001b[38;5;129;01mnot\u001b[39;00m \u001b[38;5;129;01min\u001b[39;00m left_scan_codes)\n\u001b[0;32m    315\u001b[0m \u001b[38;5;28;01mtry\u001b[39;00m:\n\u001b[0;32m    316\u001b[0m     \u001b[38;5;66;03m# Put items in ordered dict to remove duplicates.\u001b[39;00m\n\u001b[1;32m--> 317\u001b[0m     t \u001b[38;5;241m=\u001b[39m \u001b[38;5;28mtuple\u001b[39m(\u001b[43m_collections\u001b[49m\u001b[38;5;241;43m.\u001b[39;49m\u001b[43mOrderedDict\u001b[49m\u001b[43m(\u001b[49m\u001b[43m(\u001b[49m\u001b[43mscan_code\u001b[49m\u001b[43m,\u001b[49m\u001b[43m \u001b[49m\u001b[38;5;28;43;01mTrue\u001b[39;49;00m\u001b[43m)\u001b[49m\u001b[43m \u001b[49m\u001b[38;5;28;43;01mfor\u001b[39;49;00m\u001b[43m \u001b[49m\u001b[43mscan_code\u001b[49m\u001b[43m,\u001b[49m\u001b[43m \u001b[49m\u001b[43mmodifier\u001b[49m\u001b[43m \u001b[49m\u001b[38;5;129;43;01min\u001b[39;49;00m\u001b[43m \u001b[49m\u001b[43m_os_keyboard\u001b[49m\u001b[38;5;241;43m.\u001b[39;49m\u001b[43mmap_name\u001b[49m\u001b[43m(\u001b[49m\u001b[43mnormalized\u001b[49m\u001b[43m)\u001b[49m\u001b[43m)\u001b[49m)\n\u001b[0;32m    318\u001b[0m     e \u001b[38;5;241m=\u001b[39m \u001b[38;5;28;01mNone\u001b[39;00m\n\u001b[0;32m    319\u001b[0m \u001b[38;5;28;01mexcept\u001b[39;00m (\u001b[38;5;167;01mKeyError\u001b[39;00m, \u001b[38;5;167;01mValueError\u001b[39;00m) \u001b[38;5;28;01mas\u001b[39;00m exception:\n",
      "File \u001b[1;32mc:\\Users\\ryanz\\Desktop\\LLM-Based-NPC\\.venv\\lib\\site-packages\\keyboard\\__init__.py:317\u001b[0m, in \u001b[0;36m<genexpr>\u001b[1;34m(.0)\u001b[0m\n\u001b[0;32m    313\u001b[0m     \u001b[38;5;28;01mreturn\u001b[39;00m left_scan_codes \u001b[38;5;241m+\u001b[39m \u001b[38;5;28mtuple\u001b[39m(c \u001b[38;5;28;01mfor\u001b[39;00m c \u001b[38;5;129;01min\u001b[39;00m right_scan_codes \u001b[38;5;28;01mif\u001b[39;00m c \u001b[38;5;129;01mnot\u001b[39;00m \u001b[38;5;129;01min\u001b[39;00m left_scan_codes)\n\u001b[0;32m    315\u001b[0m \u001b[38;5;28;01mtry\u001b[39;00m:\n\u001b[0;32m    316\u001b[0m     \u001b[38;5;66;03m# Put items in ordered dict to remove duplicates.\u001b[39;00m\n\u001b[1;32m--> 317\u001b[0m     t \u001b[38;5;241m=\u001b[39m \u001b[38;5;28mtuple\u001b[39m(_collections\u001b[38;5;241m.\u001b[39mOrderedDict((scan_code, \u001b[38;5;28;01mTrue\u001b[39;00m) \u001b[38;5;28;01mfor\u001b[39;00m scan_code, modifier \u001b[38;5;129;01min\u001b[39;00m _os_keyboard\u001b[38;5;241m.\u001b[39mmap_name(normalized)))\n\u001b[0;32m    318\u001b[0m     e \u001b[38;5;241m=\u001b[39m \u001b[38;5;28;01mNone\u001b[39;00m\n\u001b[0;32m    319\u001b[0m \u001b[38;5;28;01mexcept\u001b[39;00m (\u001b[38;5;167;01mKeyError\u001b[39;00m, \u001b[38;5;167;01mValueError\u001b[39;00m) \u001b[38;5;28;01mas\u001b[39;00m exception:\n",
      "\u001b[1;31mKeyboardInterrupt\u001b[0m: "
     ]
    }
   ],
   "source": [
    "from tools.audio_recorder import AudioRecorder\n",
    "from tools.audio_transcriber import AudioTranscriber\n",
    "from tools.ai_chatbot import AIChatbot  # Import AIChat class\n",
    "import keyboard\n",
    "\n",
    "def listen_for_key():\n",
    "    recorder = AudioRecorder()\n",
    "    transcriber = AudioTranscriber()\n",
    "    chatbot = AIChatbot(api_key_file='api.txt', assistant_name=\"John\")  # Instantiate AIChat\n",
    "\n",
    "    try:\n",
    "        print(\"Press and hold the spacebar to record.\")\n",
    "        print(\"Release the spacebar to stop recording.\")\n",
    "        print(\"Press Esc to terminate the program.\")\n",
    "\n",
    "        while True:\n",
    "            if keyboard.is_pressed('space'):\n",
    "                if not recorder.recording:\n",
    "                    recorder.start_recording()\n",
    "\n",
    "            elif recorder.recording:\n",
    "                recorder.stop_recording()\n",
    "                transcribed_text = transcriber.transcribe_audio(recorder.OUTPUT_FILENAME)\n",
    "\n",
    "                ai_response = chatbot.ask(transcribed_text)\n",
    "                print(\"AI Response:\", ai_response)\n",
    "\n",
    "            if keyboard.is_pressed('esc'):\n",
    "                if recorder.recording:\n",
    "                    recorder.stop_recording()\n",
    "                print(\"Terminating program...\")\n",
    "                break\n",
    "    finally:\n",
    "        recorder.cleanup()\n",
    "\n",
    "if __name__ == \"__main__\":\n",
    "    listen_for_key()\n"
   ]
  }
 ],
 "metadata": {
  "kernelspec": {
   "display_name": ".venv",
   "language": "python",
   "name": "python3"
  },
  "language_info": {
   "codemirror_mode": {
    "name": "ipython",
    "version": 3
   },
   "file_extension": ".py",
   "mimetype": "text/x-python",
   "name": "python",
   "nbconvert_exporter": "python",
   "pygments_lexer": "ipython3",
   "version": "3.10.6"
  }
 },
 "nbformat": 4,
 "nbformat_minor": 2
}
