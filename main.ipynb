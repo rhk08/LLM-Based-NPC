{
 "cells": [
  {
   "cell_type": "code",
   "execution_count": 2,
   "metadata": {},
   "outputs": [
    {
     "name": "stdout",
     "output_type": "stream",
     "text": [
      "Press and hold the spacebar to record.\n",
      "Release the spacebar to stop recording.\n",
      "Press Esc to terminate the program.\n",
      "Recording started...\n",
      "Recording saved to ./recordings\\output.wav\n",
      "Transcribing ./recordings\\output.wav...\n",
      "Transcription completed.\n",
      " Testing, please record this audio please.\n",
      "Terminating program...\n"
     ]
    }
   ],
   "source": [
    "from tools.audio_recorder import AudioRecorder\n",
    "from tools.audio_transcriber import AudioTranscriber\n",
    "import keyboard\n",
    "\n",
    "def listen_for_key():\n",
    "    recorder = AudioRecorder()\n",
    "    transcriber = AudioTranscriber()\n",
    "\n",
    "    try:\n",
    "        print(\"Press and hold the spacebar to record.\")\n",
    "        print(\"Release the spacebar to stop recording.\")\n",
    "        print(\"Press Esc to terminate the program.\")\n",
    "\n",
    "        while True:\n",
    "            # When spacebar is pressed, start recording\n",
    "            if keyboard.is_pressed('space'):\n",
    "                if not recorder.recording:\n",
    "                    recorder.start_recording()\n",
    "\n",
    "            # When spacebar is released, stop recording\n",
    "            elif recorder.recording:\n",
    "                recorder.stop_recording()\n",
    "                transcriber.transcribe_audio(recorder.OUTPUT_FILENAME)\n",
    "\n",
    "            # If the Esc key is pressed, terminate the program\n",
    "            if keyboard.is_pressed('esc'):\n",
    "                if recorder.recording:\n",
    "                    recorder.stop_recording()\n",
    "                print(\"Terminating program...\")\n",
    "                break\n",
    "    finally:\n",
    "        recorder.cleanup()\n",
    "\n",
    "if __name__ == \"__main__\":\n",
    "    listen_for_key()\n"
   ]
  }
 ],
 "metadata": {
  "kernelspec": {
   "display_name": ".venv",
   "language": "python",
   "name": "python3"
  },
  "language_info": {
   "codemirror_mode": {
    "name": "ipython",
    "version": 3
   },
   "file_extension": ".py",
   "mimetype": "text/x-python",
   "name": "python",
   "nbconvert_exporter": "python",
   "pygments_lexer": "ipython3",
   "version": "3.10.6"
  }
 },
 "nbformat": 4,
 "nbformat_minor": 2
}
