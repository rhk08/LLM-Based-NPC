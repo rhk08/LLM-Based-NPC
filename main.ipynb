{
 "cells": [
  {
   "cell_type": "code",
   "execution_count": 3,
   "metadata": {},
   "outputs": [
    {
     "name": "stdout",
     "output_type": "stream",
     "text": [
      "Terminating program...\n"
     ]
    }
   ],
   "source": [
    "from tools.audio_recorder import AudioRecorder\n",
    "from tools.audio_transcriber import AudioTranscriber\n",
    "from tools.ai_chatbot import AIChatbot\n",
    "from tools.open_voice_tts import OpenVoiceTTS\n",
    "from playsound import playsound\n",
    "import keyboard\n",
    "\n",
    "def listen_for_key():\n",
    "    recorder = AudioRecorder()\n",
    "    transcriber = AudioTranscriber()\n",
    "    chatbot = AIChatbot(api_key_file='api.txt', assistant_name=\"Annie\")  # Instantiate AIChat\n",
    "    open_voice_tts = OpenVoiceTTS()\n",
    "\n",
    "    try:\n",
    "        print(\"Press and hold the spacebar to record.\")\n",
    "        print(\"Release the spacebar to stop recording.\")\n",
    "        print(\"Press Esc to terminate the program.\")\n",
    "\n",
    "        while True:\n",
    "            if keyboard.is_pressed('space'):\n",
    "                if not recorder.recording:\n",
    "                    recorder.start_recording()\n",
    "\n",
    "            elif recorder.recording:\n",
    "                #record audio\n",
    "                recorder.stop_recording()\n",
    "                #transcribe audio\n",
    "                transcribed_text = transcriber.transcribe_audio(recorder.OUTPUT_FILENAME)\n",
    "\n",
    "                #pass message to ai\n",
    "                ai_response = chatbot.ask(transcribed_text)\n",
    "                print(\"AI Response:\", ai_response)\n",
    "                \n",
    "                #convert response to voice\n",
    "                reference_speaker_file = 'OpenVoice/resources/demo_speaker1.mp3'\n",
    "                target_se, audio_name = open_voice_tts.extract_target_speaker(reference_speaker_file)\n",
    "                open_voice_tts.generate_audio(text=ai_response, target_se=target_se)\n",
    "                \n",
    "                #play sound\n",
    "                # audio_file_path = 'OpenVoice/outputs/output_en_default.wav'\n",
    "                # playsound(audio_file_path)\n",
    "                \n",
    "            if keyboard.is_pressed('esc'):\n",
    "                if recorder.recording:\n",
    "                    recorder.stop_recording()\n",
    "                print(\"Terminating program...\")\n",
    "                break\n",
    "    finally:\n",
    "        recorder.cleanup()\n",
    "\n",
    "if __name__ == \"__main__\":\n",
    "    listen_for_key()\n"
   ]
  },
  {
   "cell_type": "code",
   "execution_count": null,
   "metadata": {},
   "outputs": [],
   "source": [
    "from playsound import playsound\n",
    "import os\n",
    "           \n",
    "audio_file_path = 'OpenVoice/outputs/output_en_default.wav'\n",
    "\n",
    "if os.path.exists(audio_file_path):\n",
    "    playsound(audio_file_path)\n",
    "else:\n",
    "    print(\"Audio file does not exist.\")"
   ]
  }
 ],
 "metadata": {
  "kernelspec": {
   "display_name": ".venv",
   "language": "python",
   "name": "python3"
  },
  "language_info": {
   "codemirror_mode": {
    "name": "ipython",
    "version": 3
   },
   "file_extension": ".py",
   "mimetype": "text/x-python",
   "name": "python",
   "nbconvert_exporter": "python",
   "pygments_lexer": "ipython3",
   "version": "3.10.6"
  }
 },
 "nbformat": 4,
 "nbformat_minor": 2
}
