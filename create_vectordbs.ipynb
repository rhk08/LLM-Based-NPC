{
 "cells": [
  {
   "cell_type": "markdown",
   "metadata": {},
   "source": [
    "### Creating public world info vectordb"
   ]
  },
  {
   "cell_type": "code",
   "execution_count": 1,
   "metadata": {},
   "outputs": [
    {
     "name": "stderr",
     "output_type": "stream",
     "text": [
      "c:\\Users\\ryanz\\Desktop\\LLM-Based-NPC\\.venv\\lib\\site-packages\\pydantic\\_internal\\_config.py:341: UserWarning: Valid config keys have changed in V2:\n",
      "* 'allow_population_by_field_name' has been renamed to 'populate_by_name'\n",
      "* 'smart_union' has been removed\n",
      "  warnings.warn(message, UserWarning)\n"
     ]
    },
    {
     "data": {
      "text/plain": [
       "['3138c980-f826-48bf-8ada-ce44fa6f5503',\n",
       " 'b971772a-33a4-4ff5-a5e3-eaaacd580c9c',\n",
       " 'f2877079-4a0b-43d4-a50e-c7b289e7457f']"
      ]
     },
     "execution_count": 1,
     "metadata": {},
     "output_type": "execute_result"
    }
   ],
   "source": [
    "from langchain_text_splitters import RecursiveCharacterTextSplitter\n",
    "from langchain_cohere import CohereEmbeddings\n",
    "from langchain_chroma import Chroma\n",
    "from langchain_core.embeddings import Embeddings\n",
    "from uuid import uuid4\n",
    "import chromadb\n",
    "\n",
    "embeddings = CohereEmbeddings(cohere_api_key=\"MKDtmSMQq4NJ4DgKcY9Ql4QwF6XWbgIvWRn8FpUC\", model=\"embed-english-v3.0\", user_agent='langchain')\n",
    "\n",
    "with open(f'er_text_documents/dialogue.txt', errors='ignore') as f:\n",
    "    public_world_info = f.read()\n",
    "\n",
    "text_splitter = RecursiveCharacterTextSplitter(\n",
    "    chunk_size = 1500,\n",
    "    chunk_overlap  = 500,\n",
    "    length_function = len,\n",
    "    separators = ['\\n\\n\\n', '\\n\\n', '\\n', '.', ',', ' '],\n",
    "    is_separator_regex=False,\n",
    ")\n",
    "documents = text_splitter.create_documents([public_world_info])\n",
    "uuids = [str(uuid4()) for _ in range(len(documents))]\n",
    "\n",
    "vector_store = Chroma(\n",
    "    collection_name=\"example_collection\",\n",
    "    embedding_function=embeddings,\n",
    "    persist_directory=\"vectordbs\\public_world_info\",\n",
    ")\n",
    "vector_store.add_documents(documents=documents, ids=uuids)"
   ]
  },
  {
   "cell_type": "code",
   "execution_count": 3,
   "metadata": {},
   "outputs": [
    {
     "name": "stderr",
     "output_type": "stream",
     "text": [
      "Number of requested results 4 is greater than number of elements in index 3, updating n_results = 3\n"
     ]
    },
    {
     "name": "stdout",
     "output_type": "stream",
     "text": [
      "User: Hi, I'm interested in purchasing a new smartphone. Can you recommend some options with excellent camera quality?\n",
      "\n",
      "RAG System: Absolutely! When it comes to smartphones with exceptional camera capabilities, the market offers several impressive choices. One highly regarded option is the Pixel 6 Pro, known for its powerful camera system, including a 50MP main sensor and advanced features like Magic Eraser and Real Tone. Another great choice is the iPhone 13 Pro, which boasts a triple 12MP camera setup with Cinematic mode and ProRes video recording.\n",
      "\n",
      "User: That's great to know! I'm particularly interested in the iPhone. Can you tell me more about its camera features and any unique capabilities it offers?\n",
      "\n",
      "RAG System: The iPhone 13 Pro's camera system is truly remarkable. It introduces a new macro photography mode, allowing you to capture stunning close-up shots with incredible detail. The ProRes video recording feature is a game-changer for content creators, offering professional-grade video quality. Additionally, the Cinematic mode lets you capture videos with a shallow depth of field, mimicking the look of high-end film cameras.\n",
      "\n",
      "User: Impressive! I'm also concerned about battery life. How does the iPhone 13 Pro perform in terms of battery longevity?\n",
      "User: Impressive! I'm also concerned about battery life. How does the iPhone 13 Pro perform in terms of battery longevity?\n",
      "\n",
      "RAG System: Battery life is a crucial aspect of modern smartphones. The iPhone 13 Pro is equipped with a larger battery compared to its predecessor, offering up to 22 hours of video playback and 19 hours of streaming video on a single charge. It also supports fast charging, giving you up to 50% charge in just 30 minutes.\n",
      "\n",
      "User: That sounds promising. I'm an avid gamer, too. How well does the iPhone handle gaming performance and graphics?\n",
      "\n",
      "RAG System: The iPhone 13 Pro is an excellent choice for gamers. It features the powerful A15 Bionic chip, which delivers exceptional performance and handles demanding games with ease. The Super Retina XDR OLED display provides a smooth and immersive gaming experience with a 120Hz refresh rate. You'll also benefit from the ProMotion technology, which adjusts the refresh rate dynamically to optimize battery life.\n",
      "\n",
      "User: Wow, that's a lot of great features. I'm almost convinced. Can you quickly summarize the key differences between the iPhone 13 Pro and the regular iPhone 13?\n",
      "User: Wow, that's a lot of great features. I'm almost convinced. Can you quickly summarize the key differences between the iPhone 13 Pro and the regular iPhone 13?\n",
      "\n",
      "RAG System: Certainly! The iPhone 13 Pro offers several upgrades over the standard iPhone 13. It features a more advanced camera system with a telephoto lens, macro photography, and ProRes video. The Pro model also has a higher refresh rate display, a brighter screen, and longer battery life. Additionally, the iPhone 13 Pro comes with more storage options and a more premium design.\n",
      "\n",
      "User: Perfect! That's all the information I needed. I think I'm ready to make a purchase decision. Thanks for your help!\n"
     ]
    }
   ],
   "source": [
    "query = \"Whats iphone did you recommend?\"\n",
    "results = vector_store.similarity_search(\n",
    "    query,\n",
    "    k=4,\n",
    ")\n",
    "for res in results:\n",
    "    print(f\"{res.page_content}\")"
   ]
  },
  {
   "cell_type": "code",
   "execution_count": 3,
   "metadata": {},
   "outputs": [],
   "source": [
    "import shutil\n",
    "# path to public_vectordb inside your game folder\n",
    "folder_path = 'vectordbs/public_world_info'\n",
    "shutil.rmtree(folder_path)"
   ]
  },
  {
   "cell_type": "code",
   "execution_count": 1,
   "metadata": {},
   "outputs": [
    {
     "name": "stderr",
     "output_type": "stream",
     "text": [
      "c:\\Users\\ryanz\\Desktop\\LLM-Based-NPC\\.venv\\lib\\site-packages\\pydantic\\_internal\\_config.py:341: UserWarning: Valid config keys have changed in V2:\n",
      "* 'allow_population_by_field_name' has been renamed to 'populate_by_name'\n",
      "* 'smart_union' has been removed\n",
      "  warnings.warn(message, UserWarning)\n"
     ]
    },
    {
     "data": {
      "text/plain": [
       "['c4222b19-916e-4ebc-9c42-e35be16fcff3']"
      ]
     },
     "execution_count": 1,
     "metadata": {},
     "output_type": "execute_result"
    }
   ],
   "source": [
    "import os\n",
    "from langchain_core.prompts import ChatPromptTemplate\n",
    "from langchain_cohere import ChatCohere\n",
    "from langchain_chroma import Chroma\n",
    "from langchain_cohere import CohereEmbeddings\n",
    "import chromadb\n",
    "\n",
    "from langchain_text_splitters import RecursiveCharacterTextSplitter\n",
    "from uuid import uuid4\n",
    "\n",
    "import shutil\n",
    "\n",
    "#Read .txt file for info\n",
    "game = \"elden_ring\"\n",
    "character = \"white_mask_varre\"\n",
    "\n",
    "character_vectordb_dir = f\"{game}/characters/{character}/character_knowledge\"\n",
    "\n",
    "file_path = f'{game}/characters/{character}/character_knowledge.txt'\n",
    "if os.path.exists(file_path):\n",
    "    with open(file_path, errors='ignore') as f:\n",
    "        character_knowledge = f.read()\n",
    "else:\n",
    "    print(f\"Error: The file '{file_path}' does not exist.\")\n",
    "\n",
    "#Split document into chunks\n",
    "text_splitter = RecursiveCharacterTextSplitter(\n",
    "    chunk_size = 1500,\n",
    "    chunk_overlap  = 500,\n",
    "    length_function = len,\n",
    "    separators = ['\\n\\n\\n', '\\n\\n', '\\n', '.', ',', ' '],\n",
    "    is_separator_regex=False,\n",
    ")\n",
    "documents = text_splitter.create_documents([character_knowledge])\n",
    "uuids = [str(uuid4()) for _ in range(len(documents))]\n",
    "\n",
    "#Create the new database\n",
    "character_knowledge_vectordb = Chroma(\n",
    "    collection_name=f\"{character}_knowledge\",\n",
    "    embedding_function=CohereEmbeddings(cohere_api_key=\"MKDtmSMQq4NJ4DgKcY9Ql4QwF6XWbgIvWRn8FpUC\", model=\"embed-english-v3.0\", user_agent='langchain'),\n",
    "    persist_directory=character_vectordb_dir\n",
    ")\n",
    "\n",
    "#Add the new split documents\n",
    "character_knowledge_vectordb.add_documents(documents=documents, ids=uuids)"
   ]
  }
 ],
 "metadata": {
  "kernelspec": {
   "display_name": ".venv",
   "language": "python",
   "name": "python3"
  },
  "language_info": {
   "codemirror_mode": {
    "name": "ipython",
    "version": 3
   },
   "file_extension": ".py",
   "mimetype": "text/x-python",
   "name": "python",
   "nbconvert_exporter": "python",
   "pygments_lexer": "ipython3",
   "version": "3.10.6"
  }
 },
 "nbformat": 4,
 "nbformat_minor": 2
}
