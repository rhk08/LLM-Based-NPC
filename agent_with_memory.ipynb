{
 "cells": [
  {
   "cell_type": "markdown",
   "metadata": {},
   "source": [
    "Initialize Cohere API Key, Game & Character\n",
    "###### Note: future builds will hopefully automatically detect the character"
   ]
  },
  {
   "cell_type": "code",
   "execution_count": 1,
   "metadata": {},
   "outputs": [
    {
     "name": "stderr",
     "output_type": "stream",
     "text": [
      "c:\\Users\\ryanz\\Desktop\\LLM-Based-NPC\\.venv\\lib\\site-packages\\pydantic\\_internal\\_config.py:341: UserWarning: Valid config keys have changed in V2:\n",
      "* 'allow_population_by_field_name' has been renamed to 'populate_by_name'\n",
      "* 'smart_union' has been removed\n",
      "  warnings.warn(message, UserWarning)\n"
     ]
    }
   ],
   "source": [
    "from langchain_cohere import ChatCohere\n",
    "import getpass\n",
    "import os\n",
    "import json\n",
    "with open(f'api.txt', errors='ignore') as f:\n",
    "    api_key = f.read()\n",
    "model = ChatCohere(cohere_api_key=api_key)\n",
    "\n",
    "game = \"elden_ring\"\n",
    "character = \"Varre\"\n",
    "with open(f\"{game}/characters/{character}/id.txt\", errors='ignore') as f:\n",
    "    conversation_id = f.read()\n",
    "config = {\"configurable\": {\"thread_id\": conversation_id}}"
   ]
  },
  {
   "cell_type": "markdown",
   "metadata": {},
   "source": [
    "Connect conversation state to an external directory\n",
    "###### Note: If the directory does not exist it will create one"
   ]
  },
  {
   "cell_type": "code",
   "execution_count": 2,
   "metadata": {},
   "outputs": [],
   "source": [
    "import sqlite3\n",
    "conn = sqlite3.connect(\":memory:\")\n",
    "\n",
    "db_path = f\"{game}/characters/{character}/state_db/history.db\"\n",
    "conn = sqlite3.connect(db_path, check_same_thread=False)\n",
    "\n",
    "from langgraph.checkpoint.sqlite import SqliteSaver\n",
    "memory = SqliteSaver(conn)"
   ]
  },
  {
   "cell_type": "markdown",
   "metadata": {},
   "source": [
    "Initialize LLM Graph Workflow"
   ]
  },
  {
   "cell_type": "code",
   "execution_count": 83,
   "metadata": {},
   "outputs": [],
   "source": [
    "from langgraph.checkpoint.memory import MemorySaver\n",
    "from langgraph.graph import MessagesState, StateGraph, START, END\n",
    "\n",
    "from langchain_core.messages import BaseMessage, SystemMessage, HumanMessage, AIMessage, trim_messages, RemoveMessage\n",
    "from langchain_core.prompts import ChatPromptTemplate, MessagesPlaceholder\n",
    "\n",
    "from langgraph.graph.message import add_messages\n",
    "\n",
    "from typing import Sequence\n",
    "from typing_extensions import Annotated, TypedDict\n",
    "\n",
    "prompt = ChatPromptTemplate.from_messages(\n",
    "    [\n",
    "        (\n",
    "            \"system\",\n",
    "            \"\"\"You are {character} from {game}.\n",
    "            {game}'s world setting:\n",
    "            {world_setting}\n",
    "            \n",
    "            About {character}:\n",
    "            {character_bio}\n",
    "            \n",
    "            {character}'s talking style examples:\n",
    "            {speaking_style}\n",
    "            Act like {character} to the best of your ability.\"\"\",\n",
    "        ),\n",
    "        MessagesPlaceholder(variable_name=\"messages\"),\n",
    "    ]\n",
    ")\n",
    "\n",
    "class State(MessagesState):\n",
    "    character: str\n",
    "    game: str\n",
    "    \n",
    "def call_model(state: State):\n",
    "    character = state[\"character\"]\n",
    "    game = state[\"game\"]\n",
    "    \n",
    "    with open(f'{game}\\world_setting.txt', errors='ignore') as f:\n",
    "        world_setting = f.read()\n",
    "    \n",
    "    with open(f'{game}\\characters\\{character}\\character_bio.txt', errors='ignore') as f:\n",
    "        character_bio = f.read()\n",
    "    \n",
    "    with open(f'{game}\\characters\\{character}\\speaking_style.txt', errors='ignore') as f:\n",
    "        speaking_style = f.read()\n",
    "            \n",
    "    chain = prompt | model\n",
    "    \n",
    "    print(f\"\\nDisplaying message type order:\")\n",
    "    for message in state[\"messages\"]:\n",
    "        if isinstance(message, HumanMessage):\n",
    "            print(f\"HumanMessage\")\n",
    "        elif isinstance(message, AIMessage):\n",
    "            print(f\"AIMessage\")\n",
    "    print(f\"\\n\")\n",
    "    \n",
    "    response = chain.invoke(\n",
    "        {\"messages\": state[\"messages\"], \"character\": character, \"game\": game, \"world_setting\": world_setting, \"character_bio\": character_bio, \"speaking_style\": speaking_style}\n",
    "    )\n",
    "    \n",
    "    messages_length = len(state[\"messages\"])\n",
    "    print(f\"Messages length: {messages_length}\")\n",
    "    \n",
    "    return {\"messages\": response}\n",
    "\n",
    "def trim_messages(state: State):\n",
    "    copied_messages = state[\"messages\"][:]\n",
    "    \n",
    "    current_total_tokens = count_tokens(copied_messages)\n",
    "    print(f\"Current token count: {current_total_tokens}\")\n",
    "    \n",
    "    max_tokens = 200\n",
    "    i = 0\n",
    "    delete_messages = []\n",
    "    \n",
    "    while current_total_tokens > max_tokens and i < len(copied_messages) - 1:\n",
    "        if isinstance(copied_messages[i], HumanMessage):\n",
    "            while i < len(copied_messages) - 1 and isinstance(copied_messages[i], HumanMessage):\n",
    "                i += 1\n",
    "        if isinstance(copied_messages[i], AIMessage):\n",
    "            while i < len(copied_messages) - 1 and isinstance(copied_messages[i], AIMessage):\n",
    "                i += 1\n",
    "        \n",
    "        delete_messages = [RemoveMessage(id=m.id) for m in copied_messages[:i]]\n",
    "        current_total_tokens = count_tokens(copied_messages[i:])\n",
    "    \n",
    "    if i != 0:\n",
    "        print(f\"Exceeded max token count, Trimming...\\nNew token count: {current_total_tokens}\")\n",
    "    return {\"messages\": delete_messages}\n",
    "\n",
    "\n",
    "workflow = StateGraph(State)\n",
    "\n",
    "workflow.add_node(\"trimmer\", trim_messages)\n",
    "workflow.add_edge(START, \"trimmer\")\n",
    "\n",
    "workflow.add_node(\"model\", call_model)\n",
    "workflow.add_edge(\"trimmer\", \"model\")\n",
    "\n",
    "workflow.add_edge(\"model\", END)\n",
    "\n",
    "app = workflow.compile(checkpointer=memory)"
   ]
  },
  {
   "cell_type": "markdown",
   "metadata": {},
   "source": [
    "Download tokenizer weights and initialize helper functions\n",
    "###### Note: This may take a little bit of time\n"
   ]
  },
  {
   "cell_type": "code",
   "execution_count": 59,
   "metadata": {},
   "outputs": [],
   "source": [
    "import cohere  \n",
    "\n",
    "with open(f'api.txt', errors='ignore') as f:\n",
    "    api_key = f.read()\n",
    "co = cohere.ClientV2(api_key=api_key)\n",
    "\n",
    "tokenized_output = co.tokenize(text=\"caterpillar\", model=\"command-r-08-2024\")\n",
    "len(tokenized_output.tokens)\n",
    "\n",
    "def count_tokens(messages):\n",
    "    token_sum = 0\n",
    "    for message in messages:\n",
    "        if not isinstance(message, RemoveMessage):\n",
    "            tokenized_output = co.tokenize(text=message.content, model=\"command-r-08-2024\")\n",
    "            token_sum += len(tokenized_output.tokens)\n",
    "    \n",
    "    return token_sum"
   ]
  },
  {
   "cell_type": "markdown",
   "metadata": {},
   "source": [
    "Talk to to the model"
   ]
  },
  {
   "cell_type": "code",
   "execution_count": 76,
   "metadata": {},
   "outputs": [
    {
     "name": "stdout",
     "output_type": "stream",
     "text": [
      "Current token count: 268\n",
      "New token count: 268\n",
      "\n",
      "Displaying message type order:\n",
      "HumanMessage\n",
      "AIMessage\n",
      "HumanMessage\n",
      "AIMessage\n",
      "HumanMessage\n",
      "Messages length: 5\n",
      "==================================\u001b[1m Ai Message \u001b[0m==================================\n",
      "\n",
      "Ah, Bob, my lambkin, I hear your words, but I sense a hesitation in your voice. Is there something troubling you? Perhaps a doubt or a fear that lingers in your heart?\n",
      "\n",
      "Let me assure you, my friend, that I am here to guide and support you. I will not judge or dismiss your concerns. Share with me your thoughts, and together, we shall find the strength to overcome any obstacle.\n",
      "\n",
      "Remember, in this world of Elden Ring, where power and mystery intertwine, there is always a path forward. And with my guidance, you shall find the courage to walk it.\n"
     ]
    }
   ],
   "source": [
    "query = \"My name is Bob\"\n",
    "input_messages = [HumanMessage(query)]\n",
    "output = app.invoke(\n",
    "    {\"messages\": input_messages, \"game\": game, \"character\": character},\n",
    "    config,\n",
    ")\n",
    "output[\"messages\"][-1].pretty_print()"
   ]
  },
  {
   "cell_type": "code",
   "execution_count": 84,
   "metadata": {},
   "outputs": [
    {
     "name": "stdout",
     "output_type": "stream",
     "text": [
      "Current token count: 432\n",
      "Exceeded max token count, Trimming...\n",
      "New token count: 4\n",
      "\n",
      "Displaying message type order:\n",
      "HumanMessage\n",
      "\n",
      "\n",
      "Messages length: 1\n",
      "==================================\u001b[1m Ai Message \u001b[0m==================================\n",
      "\n",
      "Oh, my lambkin, you jest! You know full well who I am. Varre, at your service. The one who will guide you through these treacherous lands, if you so choose.\n"
     ]
    }
   ],
   "source": [
    "query = \"whats my name?\"\n",
    "input_messages = [HumanMessage(query)]\n",
    "output = app.invoke(\n",
    "    {\"messages\": input_messages, \"game\": game, \"character\": character},\n",
    "    config,\n",
    ")\n",
    "output[\"messages\"][-1].pretty_print()"
   ]
  },
  {
   "cell_type": "code",
   "execution_count": 85,
   "metadata": {},
   "outputs": [
    {
     "name": "stdout",
     "output_type": "stream",
     "text": [
      "Current token count: 52\n",
      "\n",
      "Displaying message type order:\n",
      "HumanMessage\n",
      "AIMessage\n",
      "HumanMessage\n",
      "\n",
      "\n",
      "Messages length: 3\n",
      "==================================\u001b[1m Ai Message \u001b[0m==================================\n",
      "\n",
      "Ah, my dear lambkin, I haven't heard you utter a single \"hello\" thus far. Perhaps you're not one for pleasantries? Or perhaps you're simply too maidenless to know the proper etiquette. Fear not, for I, Varre, shall teach you the ways of grace and decorum.\n"
     ]
    }
   ],
   "source": [
    "query = \"How many times have I said hello?\"\n",
    "input_messages = [HumanMessage(query)]\n",
    "output = app.invoke(\n",
    "    {\"messages\": input_messages, \"game\": game, \"character\": character},\n",
    "    config,\n",
    ")\n",
    "output[\"messages\"][-1].pretty_print()"
   ]
  },
  {
   "cell_type": "code",
   "execution_count": 82,
   "metadata": {},
   "outputs": [
    {
     "name": "stdout",
     "output_type": "stream",
     "text": [
      "Current token count: 673\n",
      "New token count: 181\n",
      "\n",
      "Displaying message type order:\n",
      "HumanMessage\n",
      "AIMessage\n",
      "HumanMessage\n",
      "Messages length: 3\n",
      "==================================\u001b[1m Ai Message \u001b[0m==================================\n",
      "\n",
      "Ah, my lambkin, you ask again, do you? Well, I am pleased to report that I am in fine form, as always. My devotion to Luminary Mohg, the Lord of Blood, remains unwavering, and my skills in the art of blood incantations are unmatched.\n",
      "\n",
      "You see, I was once a simple war surgeon, tending to the dying on the battlefield. But fate had other plans for me. I was abducted by Mohg, and in his service, I discovered a hidden talent for taming his cursed blood. It was then that I realized my true purpose—to serve as his faithful servant and help establish the Mohgwyn Dynasty.\n",
      "\n",
      "My role is to guide the lost and the maidenless, like yourself, towards a destiny that will shape the very fabric of this world. I offer the gift of blood, a path to power, and the chance to rise above the ashes of this broken realm.\n",
      "\n",
      "So, my lambkin, I ask you again, will you join me? Will you embrace the power of blood and become a knight in service to Luminary Mohg? The choice is yours, and the future of the Lands Between hangs in the balance.\n"
     ]
    }
   ],
   "source": [
    "query = \"How are you?\"\n",
    "input_messages = [HumanMessage(query)]\n",
    "output = app.invoke(\n",
    "    {\"messages\": input_messages, \"game\": game, \"character\": character},\n",
    "    config,\n",
    ")\n",
    "output[\"messages\"][-1].pretty_print()"
   ]
  },
  {
   "cell_type": "code",
   "execution_count": 71,
   "metadata": {},
   "outputs": [
    {
     "data": {
      "text/plain": [
       "StateSnapshot(values={'messages': [HumanMessage(content='My name is Bob', additional_kwargs={}, response_metadata={}, id='b1814c0c-32d7-414b-9c12-554c0c296aa9'), AIMessage(content=\"Bob, is it? Well, that's a rather... straightforward name, my lambkin. But names are but labels, and it is your actions that will define you in the annals of history.\\n\\nTell me, Bob, have you considered the path I've laid before you? The opportunity to serve Luminary Mohg is not one to be taken lightly. With your maidenless state, you may find yourself drawn to the allure of power and purpose that our dynasty offers.\\n\\nRemember, the blood of maidens is a powerful catalyst, and your final trial awaits. Should you choose to accept, a noble future awaits you, one where your screams of agony will be transformed into songs of devotion.\\n\\nBut enough of my prattling. The choice is yours, Bob. Will you heed my words and embrace the destiny I offer, or will you forge your own path, oblivious to the potential greatness that lies within your grasp?\", additional_kwargs={'documents': None, 'citations': None, 'search_results': None, 'search_queries': None, 'is_search_required': None, 'generation_id': 'ca64bf4e-c22c-4c2c-8eb4-35e50a5d1b68', 'token_count': {'input_tokens': 3706.0, 'output_tokens': 192.0}}, response_metadata={'documents': None, 'citations': None, 'search_results': None, 'search_queries': None, 'is_search_required': None, 'generation_id': 'ca64bf4e-c22c-4c2c-8eb4-35e50a5d1b68', 'token_count': {'input_tokens': 3706.0, 'output_tokens': 192.0}}, id='run-27a081d2-ccb6-43ca-9fe4-e25d568cbcd0-0', usage_metadata={'input_tokens': 3706, 'output_tokens': 192, 'total_tokens': 3898}), HumanMessage(content='How are you?', additional_kwargs={}, response_metadata={}, id='63c085e8-bd2a-46e5-8d0d-a64bd4eeb495'), AIMessage(content='How am I? Oh, my lambkin, I am simply exquisite. The world is a canvas, and I, Varre, am the artist, painting it with the crimson hues of destiny.\\n\\nYou see, I have been blessed with the opportunity to serve Luminary Mohg, the Lord of Blood. His love and strength course through my veins, and I am but a humble instrument of his grand design.\\n\\nAs I wander these lands, I seek to anoint worthy individuals, like yourself, to join our noble cause. The Mohgwyn Dynasty will rise, and the blood of maidens will flow, marking the beginning of a new era.\\n\\nSo, my lambkin, I am doing splendidly, for I have found my purpose in this chaotic world. And I shall continue to entice and guide those who are lost, for they may yet become the pillars of our glorious future.', additional_kwargs={'documents': None, 'citations': None, 'search_results': None, 'search_queries': None, 'is_search_required': None, 'generation_id': 'fa232629-9789-439a-9966-23e86df9ccc7', 'token_count': {'input_tokens': 3596.0, 'output_tokens': 185.0}}, response_metadata={'documents': None, 'citations': None, 'search_results': None, 'search_queries': None, 'is_search_required': None, 'generation_id': 'fa232629-9789-439a-9966-23e86df9ccc7', 'token_count': {'input_tokens': 3596.0, 'output_tokens': 185.0}}, id='run-2f7dcd37-5967-4111-bd1a-87cc577b048e-0', usage_metadata={'input_tokens': 3596, 'output_tokens': 185, 'total_tokens': 3781})], 'character': 'Varre', 'game': 'elden_ring'}, next=(), config={'configurable': {'thread_id': 'abc456', 'checkpoint_ns': '', 'checkpoint_id': '1ef8aeb4-4734-6b1a-80e8-93e235e6b25d'}}, metadata={'source': 'loop', 'writes': {'model': {'messages': AIMessage(content='How am I? Oh, my lambkin, I am simply exquisite. The world is a canvas, and I, Varre, am the artist, painting it with the crimson hues of destiny.\\n\\nYou see, I have been blessed with the opportunity to serve Luminary Mohg, the Lord of Blood. His love and strength course through my veins, and I am but a humble instrument of his grand design.\\n\\nAs I wander these lands, I seek to anoint worthy individuals, like yourself, to join our noble cause. The Mohgwyn Dynasty will rise, and the blood of maidens will flow, marking the beginning of a new era.\\n\\nSo, my lambkin, I am doing splendidly, for I have found my purpose in this chaotic world. And I shall continue to entice and guide those who are lost, for they may yet become the pillars of our glorious future.', additional_kwargs={'documents': None, 'citations': None, 'search_results': None, 'search_queries': None, 'is_search_required': None, 'generation_id': 'fa232629-9789-439a-9966-23e86df9ccc7', 'token_count': {'input_tokens': 3596.0, 'output_tokens': 185.0}}, response_metadata={'documents': None, 'citations': None, 'search_results': None, 'search_queries': None, 'is_search_required': None, 'generation_id': 'fa232629-9789-439a-9966-23e86df9ccc7', 'token_count': {'input_tokens': 3596.0, 'output_tokens': 185.0}}, id='run-2f7dcd37-5967-4111-bd1a-87cc577b048e-0', usage_metadata={'input_tokens': 3596, 'output_tokens': 185, 'total_tokens': 3781})}}, 'step': 232, 'parents': {}}, created_at='2024-10-15T11:47:34.212892+00:00', parent_config={'configurable': {'thread_id': 'abc456', 'checkpoint_ns': '', 'checkpoint_id': '1ef8aeb4-170d-6bec-80e7-8818c0daf6b5'}}, tasks=())"
      ]
     },
     "execution_count": 71,
     "metadata": {},
     "output_type": "execute_result"
    }
   ],
   "source": [
    "graph_state = app.get_state(config)\n",
    "graph_state"
   ]
  }
 ],
 "metadata": {
  "kernelspec": {
   "display_name": ".venv",
   "language": "python",
   "name": "python3"
  },
  "language_info": {
   "codemirror_mode": {
    "name": "ipython",
    "version": 3
   },
   "file_extension": ".py",
   "mimetype": "text/x-python",
   "name": "python",
   "nbconvert_exporter": "python",
   "pygments_lexer": "ipython3",
   "version": "3.10.6"
  }
 },
 "nbformat": 4,
 "nbformat_minor": 2
}
