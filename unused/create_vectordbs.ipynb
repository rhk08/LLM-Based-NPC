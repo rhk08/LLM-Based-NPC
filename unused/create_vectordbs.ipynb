{
 "cells": [
  {
   "cell_type": "markdown",
   "metadata": {},
   "source": [
    "Testing file for vector database, dont use this file"
   ]
  },
  {
   "cell_type": "code",
   "execution_count": 1,
   "metadata": {},
   "outputs": [
    {
     "name": "stderr",
     "output_type": "stream",
     "text": [
      "c:\\Users\\ryanz\\Desktop\\LLM-Based-NPC\\.venv\\lib\\site-packages\\pydantic\\_internal\\_config.py:341: UserWarning: Valid config keys have changed in V2:\n",
      "* 'allow_population_by_field_name' has been renamed to 'populate_by_name'\n",
      "* 'smart_union' has been removed\n",
      "  warnings.warn(message, UserWarning)\n"
     ]
    },
    {
     "data": {
      "text/plain": [
       "['029c96ad-869e-404f-a624-b07f924bbb2f',\n",
       " '78021f9a-d059-4cc4-8126-daacf792cd57',\n",
       " '4203e8c3-5127-4f76-8e63-ae86bc487d3e',\n",
       " '11731602-1d22-4f0b-8a1d-bf57015205e7',\n",
       " '1bdda05c-b653-4ec7-9f1e-955bec381c45',\n",
       " '590b8bca-e030-49d1-b8f3-aa00daf31610',\n",
       " '25cc5982-048c-4849-9ebe-79a385383526',\n",
       " '134f4146-a3d3-4737-8ff2-efa852dab8c9',\n",
       " '5a62a54b-6185-4992-828f-f774e9852ba5',\n",
       " 'ca70e051-0cc3-488d-a602-f72661e33df5']"
      ]
     },
     "execution_count": 1,
     "metadata": {},
     "output_type": "execute_result"
    }
   ],
   "source": [
    "from langchain_text_splitters import RecursiveCharacterTextSplitter\n",
    "from langchain_cohere import CohereEmbeddings\n",
    "from langchain_chroma import Chroma\n",
    "from langchain_core.embeddings import Embeddings\n",
    "from uuid import uuid4\n",
    "import chromadb\n",
    "\n",
    "with open(f'api.txt', errors='ignore') as f:\n",
    "    api_key = f.read()\n",
    "embeddings = CohereEmbeddings(cohere_api_key=api_key, model=\"embed-english-v3.0\", user_agent='langchain')\n",
    "\n",
    "game = \"elden_ring\"\n",
    "character = \"Varre\"\n",
    "with open(f\"{game}/public_knowledge.txt\", errors='ignore') as f:\n",
    "    public_knowledge = f.read()\n",
    "\n",
    "with open(f\"{game}/characters/{character}/character_knowledge.txt\", errors='ignore') as f:\n",
    "    character_knowledge = f.read()\n",
    "\n",
    "text_splitter = RecursiveCharacterTextSplitter(\n",
    "    chunk_size = 1500,\n",
    "    chunk_overlap  = 500,\n",
    "    length_function = len,\n",
    "    separators = ['\\n\\n\\n', '\\n\\n', '\\n', '.', ',', ' '],\n",
    "    is_separator_regex=False,\n",
    ")\n",
    "documents_public = text_splitter.create_documents([public_knowledge])\n",
    "uuids_public = [str(uuid4()) for _ in range(len(documents_public))]\n",
    "\n",
    "\n",
    "documents_character = text_splitter.create_documents([character_knowledge])\n",
    "uuids_character = [str(uuid4()) for _ in range(len(documents_character))]\n",
    "\n",
    "vector_store = Chroma(\n",
    "    collection_name=f\"{character}_knowledge\",\n",
    "    embedding_function=embeddings,\n",
    "    persist_directory=f\"{game}/characters/{character}/vectordbs\",\n",
    ")\n",
    "vector_store.add_documents(documents=documents_public, ids=uuids_public)\n",
    "vector_store.add_documents(documents=documents_character, ids=uuids_character)"
   ]
  },
  {
   "cell_type": "code",
   "execution_count": 8,
   "metadata": {},
   "outputs": [
    {
     "name": "stdout",
     "output_type": "stream",
     "text": [
      "Hello\n"
     ]
    }
   ],
   "source": [
    "\n",
    "from langchain_text_splitters import RecursiveCharacterTextSplitter\n",
    "from langchain_cohere import CohereEmbeddings\n",
    "from langchain_chroma import Chroma\n",
    "from langchain_core.embeddings import Embeddings\n",
    "from uuid import uuid4\n",
    "import chromadb\n",
    "\n",
    "game = \"elden_ring\"\n",
    "character = \"Varre\"\n",
    "with open(f'api.txt', errors='ignore') as f:\n",
    "    api_key = f.read()\n",
    "embeddings = CohereEmbeddings(cohere_api_key=api_key, model=\"embed-english-v3.0\", user_agent='langchain')\n",
    "\n",
    "vector_store = Chroma(\n",
    "    collection_name=f\"{character}_knowledge\",\n",
    "    embedding_function=embeddings,\n",
    "    persist_directory=f\"{game}/characters/{character}/vectordbs\",\n",
    ")\n",
    "\n",
    "query = \"How are you\"\n",
    "results = vector_store.similarity_search(\n",
    "    query,\n",
    "    k=1,\n",
    ")\n",
    "\n",
    "text_splitter = RecursiveCharacterTextSplitter(\n",
    "    chunk_size = 1500,\n",
    "    chunk_overlap  = 500,\n",
    "    length_function = len,\n",
    "    separators = ['\\n\\n\\n', '\\n\\n', '\\n', '.', ',', ' '],\n",
    "    is_separator_regex=False,\n",
    ")\n",
    "\n",
    "for res in results:\n",
    "    print(f\"{res.page_content}\")"
   ]
  },
  {
   "cell_type": "code",
   "execution_count": 6,
   "metadata": {},
   "outputs": [
    {
     "name": "stderr",
     "output_type": "stream",
     "text": [
      "Number of requested results 4 is greater than number of elements in index 1, updating n_results = 1\n"
     ]
    },
    {
     "data": {
      "text/plain": [
       "['1ea398b3-7f52-4f68-a4d4-c3a9029db6f2']"
      ]
     },
     "execution_count": 6,
     "metadata": {},
     "output_type": "execute_result"
    }
   ],
   "source": [
    "retriever = vector_store.as_retriever()\n",
    "documents = retriever.invoke(\"Who are you?\")\n",
    "documents\n",
    "\n",
    "for res in documents:\n",
    "    print(f\"{res.page_content}\")\n",
    "\n",
    "\n",
    "new_text = [\n",
    "\"\"\"Tarnished: Hello\n",
    "Varre: Hello\"\"\"]\n",
    "vector_store.add_texts(new_text)"
   ]
  },
  {
   "cell_type": "code",
   "execution_count": 9,
   "metadata": {},
   "outputs": [
    {
     "name": "stderr",
     "output_type": "stream",
     "text": [
      "Number of requested results 4 is greater than number of elements in index 2, updating n_results = 2\n"
     ]
    },
    {
     "name": "stdout",
     "output_type": "stream",
     "text": [
      "Hello\n",
      "Tarnished: Hello\n",
      "Varre: Hello\n"
     ]
    }
   ],
   "source": [
    "retriever = vector_store.as_retriever()\n",
    "documents = retriever.invoke(\"Who are you?\")\n",
    "documents\n",
    "\n",
    "for res in documents:\n",
    "    print(f\"{res.page_content}\")"
   ]
  },
  {
   "cell_type": "code",
   "execution_count": 3,
   "metadata": {},
   "outputs": [],
   "source": [
    "import shutil\n",
    "# path to public_vectordb inside your game folder\n",
    "folder_path = 'vectordbs/public_world_info'\n",
    "shutil.rmtree(folder_path)"
   ]
  },
  {
   "cell_type": "code",
   "execution_count": 1,
   "metadata": {},
   "outputs": [
    {
     "name": "stderr",
     "output_type": "stream",
     "text": [
      "c:\\Users\\ryanz\\Desktop\\LLM-Based-NPC\\.venv\\lib\\site-packages\\pydantic\\_internal\\_config.py:341: UserWarning: Valid config keys have changed in V2:\n",
      "* 'allow_population_by_field_name' has been renamed to 'populate_by_name'\n",
      "* 'smart_union' has been removed\n",
      "  warnings.warn(message, UserWarning)\n"
     ]
    },
    {
     "data": {
      "text/plain": [
       "['c4222b19-916e-4ebc-9c42-e35be16fcff3']"
      ]
     },
     "execution_count": 1,
     "metadata": {},
     "output_type": "execute_result"
    }
   ],
   "source": [
    "import os\n",
    "from langchain_core.prompts import ChatPromptTemplate\n",
    "from langchain_cohere import ChatCohere\n",
    "from langchain_chroma import Chroma\n",
    "from langchain_cohere import CohereEmbeddings\n",
    "import chromadb\n",
    "\n",
    "from langchain_text_splitters import RecursiveCharacterTextSplitter\n",
    "from uuid import uuid4\n",
    "\n",
    "import shutil\n",
    "\n",
    "#Read .txt file for info\n",
    "game = \"elden_ring\"\n",
    "character = \"white_mask_varre\"\n",
    "\n",
    "character_vectordb_dir = f\"{game}/characters/{character}/character_knowledge\"\n",
    "\n",
    "file_path = f'{game}/characters/{character}/character_knowledge.txt'\n",
    "if os.path.exists(file_path):\n",
    "    with open(file_path, errors='ignore') as f:\n",
    "        character_knowledge = f.read()\n",
    "else:\n",
    "    print(f\"Error: The file '{file_path}' does not exist.\")\n",
    "\n",
    "#Split document into chunks\n",
    "text_splitter = RecursiveCharacterTextSplitter(\n",
    "    chunk_size = 1500,\n",
    "    chunk_overlap  = 500,\n",
    "    length_function = len,\n",
    "    separators = ['\\n\\n\\n', '\\n\\n', '\\n', '.', ',', ' '],\n",
    "    is_separator_regex=False,\n",
    ")\n",
    "documents = text_splitter.create_documents([character_knowledge])\n",
    "uuids = [str(uuid4()) for _ in range(len(documents))]\n",
    "\n",
    "#Create the new database\n",
    "character_knowledge_vectordb = Chroma(\n",
    "    collection_name=f\"{character}_knowledge\",\n",
    "    embedding_function=CohereEmbeddings(cohere_api_key=\"MKDtmSMQq4NJ4DgKcY9Ql4QwF6XWbgIvWRn8FpUC\", model=\"embed-english-v3.0\", user_agent='langchain'),\n",
    "    persist_directory=character_vectordb_dir\n",
    ")\n",
    "\n",
    "#Add the new split documents\n",
    "character_knowledge_vectordb.add_documents(documents=documents, ids=uuids)"
   ]
  },
  {
   "cell_type": "code",
   "execution_count": null,
   "metadata": {},
   "outputs": [],
   "source": [
    "retriever = vectorstore.as_retriever()"
   ]
  }
 ],
 "metadata": {
  "kernelspec": {
   "display_name": ".venv",
   "language": "python",
   "name": "python3"
  },
  "language_info": {
   "codemirror_mode": {
    "name": "ipython",
    "version": 3
   },
   "file_extension": ".py",
   "mimetype": "text/x-python",
   "name": "python",
   "nbconvert_exporter": "python",
   "pygments_lexer": "ipython3",
   "version": "3.10.6"
  }
 },
 "nbformat": 4,
 "nbformat_minor": 2
}
