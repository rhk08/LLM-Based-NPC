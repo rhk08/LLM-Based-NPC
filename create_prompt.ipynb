{
 "cells": [
  {
   "cell_type": "code",
   "execution_count": 44,
   "metadata": {},
   "outputs": [
    {
     "name": "stdout",
     "output_type": "stream",
     "text": [
      "first=ChatPromptTemplate(input_variables=['name', 'name1', 'topic'], messages=[SystemMessagePromptTemplate(prompt=PromptTemplate(input_variables=['name', 'name1'], template='You are a helpful assistant called {name}.\\n     \\n    You and {name1} are talking, this is your conversation history.:\\n    {name}: Why did the cat sit on the computer?\\nBecause she wanted to keep an eye on the mouse!\\n    {name1}: What was the first joke you told me about cats?\\n    {name}: The first joke I told you was:\\nWhy did the cat sit on the computer?\\nBecause she wanted to keep an eye on the mouse!\\n    ')), HumanMessagePromptTemplate(prompt=PromptTemplate(input_variables=['topic'], template='That joke about {topic} was funny!'))]) last=ChatCohere(client=<cohere.client.Client object at 0x000002E0B2A52950>, async_client=<cohere.client.AsyncClient object at 0x000002E0B2A53370>, cohere_api_key=SecretStr('**********'))\n",
      "I'm glad you enjoyed it! Cats can be quite mischievous, and their curiosity often leads them to explore and interact with technology in unexpected ways.\n",
      "\n",
      "Do you have any other favorite jokes or topics you'd like to discuss? I can provide more humor or assist with any questions you might have.\n"
     ]
    }
   ],
   "source": [
    "from langchain_core.prompts import ChatPromptTemplate\n",
    "from langchain_cohere import ChatCohere\n",
    "from langchain_core.messages import HumanMessage\n",
    "\n",
    "with open(f'api.txt', errors='ignore') as f:\n",
    "    api_key = f.read()\n",
    "chat = ChatCohere(cohere_api_key=api_key)\n",
    "\n",
    "#user, assistant, or system\n",
    "prompt_template = ChatPromptTemplate([\n",
    "    (\"system\", \"\"\"You are a helpful assistant called {name}.\n",
    "     \n",
    "    You and {name1} are talking, this is your conversation history.:\n",
    "    {name}: Why did the cat sit on the computer?\\nBecause she wanted to keep an eye on the mouse!\n",
    "    {name1}: What was the first joke you told me about cats?\n",
    "    {name}: The first joke I told you was:\\nWhy did the cat sit on the computer?\\nBecause she wanted to keep an eye on the mouse!\n",
    "    \"\"\"),\n",
    "    \n",
    "    (\"user\", \"That joke about {topic} was funny!\")\n",
    "])\n",
    "\n",
    "\n",
    "chain = prompt_template | chat\n",
    "print(chain)\n",
    "print(chain.invoke({\"topic\": \"cats\", \"name\": \"John\", \"name1\": \"Mike\"}).content)"
   ]
  }
 ],
 "metadata": {
  "kernelspec": {
   "display_name": ".venv",
   "language": "python",
   "name": "python3"
  },
  "language_info": {
   "codemirror_mode": {
    "name": "ipython",
    "version": 3
   },
   "file_extension": ".py",
   "mimetype": "text/x-python",
   "name": "python",
   "nbconvert_exporter": "python",
   "pygments_lexer": "ipython3",
   "version": "3.10.6"
  }
 },
 "nbformat": 4,
 "nbformat_minor": 2
}
