{
 "cells": [
  {
   "cell_type": "markdown",
   "metadata": {},
   "source": [
    "Use when you want to delete the vector databases for RAG storage"
   ]
  },
  {
   "cell_type": "code",
   "execution_count": 3,
   "metadata": {},
   "outputs": [
    {
     "name": "stdout",
     "output_type": "stream",
     "text": [
      "Removed game vector database at: elden_ring/public_knowledge\n"
     ]
    }
   ],
   "source": [
    "import os\n",
    "import shutil\n",
    "\n",
    "game = \"elden_ring\"\n",
    "\n",
    "game_vectordb_dir = f\"{game}/public_knowledge\"\n",
    "\n",
    "\n",
    "# Remove the game vector database if it exists\n",
    "if os.path.exists(game_vectordb_dir):\n",
    "    shutil.rmtree(game_vectordb_dir)\n",
    "    print(f\"Removed game vector database at: {game_vectordb_dir}\")\n",
    "else:\n",
    "    print(f\"No game vector database found at: {game_vectordb_dir}\")"
   ]
  },
  {
   "cell_type": "code",
   "execution_count": 7,
   "metadata": {},
   "outputs": [
    {
     "name": "stdout",
     "output_type": "stream",
     "text": [
      "Removed character vector database at: elden_ring/characters/white_mask_varre/character_knowledge\n"
     ]
    }
   ],
   "source": [
    "import os\n",
    "import shutil\n",
    "\n",
    "game = \"elden_ring\"\n",
    "character = \"white_mask_varre\"\n",
    "\n",
    "character_vectordb_dir = f\"{game}/characters/{character}/character_knowledge\"\n",
    "\n",
    "# Remove the character vector database if it exists\n",
    "if os.path.exists(character_vectordb_dir):\n",
    "    shutil.rmtree(character_vectordb_dir)\n",
    "    print(f\"Removed character vector database at: {character_vectordb_dir}\")\n",
    "else:\n",
    "    print(f\"No character vector database found at: {character_vectordb_dir}\")"
   ]
  }
 ],
 "metadata": {
  "kernelspec": {
   "display_name": ".venv",
   "language": "python",
   "name": "python3"
  },
  "language_info": {
   "codemirror_mode": {
    "name": "ipython",
    "version": 3
   },
   "file_extension": ".py",
   "mimetype": "text/x-python",
   "name": "python",
   "nbconvert_exporter": "python",
   "pygments_lexer": "ipython3",
   "version": "3.10.6"
  }
 },
 "nbformat": 4,
 "nbformat_minor": 2
}
