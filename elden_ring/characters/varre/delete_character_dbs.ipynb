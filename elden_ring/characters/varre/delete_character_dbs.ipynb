{
 "cells": [
  {
   "cell_type": "markdown",
   "metadata": {},
   "source": [
    "Delete state_db_with_summary\n",
    "###### Note: Make sure to restart the kernal for any agents that may currently using this directory"
   ]
  },
  {
   "cell_type": "code",
   "execution_count": 10,
   "metadata": {},
   "outputs": [
    {
     "name": "stdout",
     "output_type": "stream",
     "text": [
      "Removed file: state_db_with_summary\\history.db\n",
      "Removed file: state_db_with_summary\\history.db-shm\n",
      "Removed file: state_db_with_summary\\history.db-wal\n"
     ]
    }
   ],
   "source": [
    "import os\n",
    "import shutil\n",
    "\n",
    "directory = \"state_db_with_summary\"\n",
    "\n",
    "if os.path.exists(directory):\n",
    "    for root, dirs, files in os.walk(directory):\n",
    "        for file in files:\n",
    "            if file.startswith(\"history\"):\n",
    "                file_path = os.path.join(root, file)\n",
    "                os.remove(file_path)\n",
    "                print(f\"Removed file: {file_path}\")\n",
    "else:\n",
    "    print(f\"No directory found at: {directory}\")"
   ]
  },
  {
   "cell_type": "markdown",
   "metadata": {},
   "source": [
    "Delete state_db\n",
    "###### Note: Make sure to restart the kernal for any agents that may currently using this directory"
   ]
  },
  {
   "cell_type": "code",
   "execution_count": 9,
   "metadata": {},
   "outputs": [
    {
     "name": "stdout",
     "output_type": "stream",
     "text": [
      "Removed file: state_db\\history.db\n",
      "Removed file: state_db\\history.db-shm\n",
      "Removed file: state_db\\history.db-wal\n"
     ]
    }
   ],
   "source": [
    "import os\n",
    "import shutil\n",
    "\n",
    "directory = \"state_db\"\n",
    "\n",
    "if os.path.exists(directory):\n",
    "    for root, dirs, files in os.walk(directory):\n",
    "        for file in files:\n",
    "            if file.startswith(\"history\"):\n",
    "                file_path = os.path.join(root, file)\n",
    "                os.remove(file_path)\n",
    "                print(f\"Removed file: {file_path}\")\n",
    "else:\n",
    "    print(f\"No directory found at: {directory}\")"
   ]
  },
  {
   "cell_type": "markdown",
   "metadata": {},
   "source": [
    "Delete state_db_with_rag\n",
    "###### Note: Make sure to restart the kernal for any agents that may currently using this directory"
   ]
  },
  {
   "cell_type": "code",
   "execution_count": 17,
   "metadata": {},
   "outputs": [
    {
     "ename": "PermissionError",
     "evalue": "[WinError 32] The process cannot access the file because it is being used by another process: 'state_db_with_rag\\\\history.db'",
     "output_type": "error",
     "traceback": [
      "\u001b[1;31m---------------------------------------------------------------------------\u001b[0m",
      "\u001b[1;31mPermissionError\u001b[0m                           Traceback (most recent call last)",
      "Cell \u001b[1;32mIn[17], line 11\u001b[0m\n\u001b[0;32m      9\u001b[0m             \u001b[38;5;28;01mif\u001b[39;00m file\u001b[38;5;241m.\u001b[39mstartswith(\u001b[38;5;124m\"\u001b[39m\u001b[38;5;124mhistory\u001b[39m\u001b[38;5;124m\"\u001b[39m):\n\u001b[0;32m     10\u001b[0m                 file_path \u001b[38;5;241m=\u001b[39m os\u001b[38;5;241m.\u001b[39mpath\u001b[38;5;241m.\u001b[39mjoin(root, file)\n\u001b[1;32m---> 11\u001b[0m                 \u001b[43mos\u001b[49m\u001b[38;5;241;43m.\u001b[39;49m\u001b[43mremove\u001b[49m\u001b[43m(\u001b[49m\u001b[43mfile_path\u001b[49m\u001b[43m)\u001b[49m\n\u001b[0;32m     12\u001b[0m                 \u001b[38;5;28mprint\u001b[39m(\u001b[38;5;124mf\u001b[39m\u001b[38;5;124m\"\u001b[39m\u001b[38;5;124mRemoved file: \u001b[39m\u001b[38;5;132;01m{\u001b[39;00mfile_path\u001b[38;5;132;01m}\u001b[39;00m\u001b[38;5;124m\"\u001b[39m)\n\u001b[0;32m     13\u001b[0m \u001b[38;5;28;01melse\u001b[39;00m:\n",
      "\u001b[1;31mPermissionError\u001b[0m: [WinError 32] The process cannot access the file because it is being used by another process: 'state_db_with_rag\\\\history.db'"
     ]
    }
   ],
   "source": [
    "import os\n",
    "import shutil\n",
    "\n",
    "directory = \"state_db_with_rag\"\n",
    "\n",
    "if os.path.exists(directory):\n",
    "    for root, dirs, files in os.walk(directory):\n",
    "        for file in files:\n",
    "            if file.startswith(\"history\"):\n",
    "                file_path = os.path.join(root, file)\n",
    "                os.remove(file_path)\n",
    "                print(f\"Removed file: {file_path}\")\n",
    "else:\n",
    "    print(f\"No directory found at: {directory}\")\n",
    "    \n",
    "import os\n",
    "import shutil\n",
    "\n",
    "directory = \"conversation_vectordbs\"\n",
    "\n",
    "if os.path.exists(directory):\n",
    "    for root, dirs, files in os.walk(directory):\n",
    "        for file in files:\n",
    "            file_path = os.path.join(root, file)\n",
    "            os.remove(file_path)\n",
    "            print(f\"Removed file: {file_path}\")\n",
    "        for dir in dirs:\n",
    "            dir_path = os.path.join(root, dir)\n",
    "            shutil.rmtree(dir_path)\n",
    "            print(f\"Removed directory: {dir_path}\")\n",
    "else:\n",
    "    print(f\"No directory found at: {directory}\")"
   ]
  },
  {
   "cell_type": "code",
   "execution_count": 16,
   "metadata": {},
   "outputs": [
    {
     "name": "stdout",
     "output_type": "stream",
     "text": [
      "Removed file: state_db_with_rag_complex\\history.db\n",
      "Removed file: state_db_with_rag_complex\\history.db-shm\n",
      "Removed file: state_db_with_rag_complex\\history.db-wal\n",
      "Removed file: conversation_vectordbs_complex\\chroma.sqlite3\n",
      "Removed directory: conversation_vectordbs_complex\\449239b8-1639-49f4-a2f5-acd96d8391ff\n"
     ]
    }
   ],
   "source": [
    "import os\n",
    "import shutil\n",
    "\n",
    "directory = \"state_db_with_rag_complex\"\n",
    "\n",
    "if os.path.exists(directory):\n",
    "    for root, dirs, files in os.walk(directory):\n",
    "        for file in files:\n",
    "            if file.startswith(\"history\"):\n",
    "                file_path = os.path.join(root, file)\n",
    "                os.remove(file_path)\n",
    "                print(f\"Removed file: {file_path}\")\n",
    "else:\n",
    "    print(f\"No directory found at: {directory}\")\n",
    "    \n",
    "import os\n",
    "import shutil\n",
    "\n",
    "directory = \"conversation_vectordbs_complex\"\n",
    "\n",
    "if os.path.exists(directory):\n",
    "    for root, dirs, files in os.walk(directory):\n",
    "        for file in files:\n",
    "            file_path = os.path.join(root, file)\n",
    "            os.remove(file_path)\n",
    "            print(f\"Removed file: {file_path}\")\n",
    "        for dir in dirs:\n",
    "            dir_path = os.path.join(root, dir)\n",
    "            shutil.rmtree(dir_path)\n",
    "            print(f\"Removed directory: {dir_path}\")\n",
    "else:\n",
    "    print(f\"No directory found at: {directory}\")"
   ]
  },
  {
   "cell_type": "markdown",
   "metadata": {},
   "source": [
    "Delete conversation vectordbs\n",
    "###### Note: Make sure to restart the kernal for any agents that may currently using this directory"
   ]
  },
  {
   "cell_type": "code",
   "execution_count": 13,
   "metadata": {},
   "outputs": [
    {
     "name": "stdout",
     "output_type": "stream",
     "text": [
      "Removed file: state_db_with_rag_summaries\\history.db\n",
      "Removed file: state_db_with_rag_summaries\\history.db-shm\n",
      "Removed file: state_db_with_rag_summaries\\history.db-wal\n",
      "Removed file: summary_vectordbs\\chroma.sqlite3\n",
      "Removed directory: summary_vectordbs\\099513a0-928d-42d3-a368-50b52cb7d2db\n"
     ]
    }
   ],
   "source": [
    "import os\n",
    "import shutil\n",
    "\n",
    "directory = \"state_db_with_rag_summaries\"\n",
    "\n",
    "if os.path.exists(directory):\n",
    "    for root, dirs, files in os.walk(directory):\n",
    "        for file in files:\n",
    "            if file.startswith(\"history\"):\n",
    "                file_path = os.path.join(root, file)\n",
    "                os.remove(file_path)\n",
    "                print(f\"Removed file: {file_path}\")\n",
    "else:\n",
    "    print(f\"No directory found at: {directory}\")\n",
    "    \n",
    "import os\n",
    "import shutil\n",
    "\n",
    "directory = \"summary_vectordbs\"\n",
    "\n",
    "if os.path.exists(directory):\n",
    "    for root, dirs, files in os.walk(directory):\n",
    "        for file in files:\n",
    "            file_path = os.path.join(root, file)\n",
    "            os.remove(file_path)\n",
    "            print(f\"Removed file: {file_path}\")\n",
    "        for dir in dirs:\n",
    "            dir_path = os.path.join(root, dir)\n",
    "            shutil.rmtree(dir_path)\n",
    "            print(f\"Removed directory: {dir_path}\")\n",
    "else:\n",
    "    print(f\"No directory found at: {directory}\")"
   ]
  }
 ],
 "metadata": {
  "kernelspec": {
   "display_name": ".venv",
   "language": "python",
   "name": "python3"
  },
  "language_info": {
   "codemirror_mode": {
    "name": "ipython",
    "version": 3
   },
   "file_extension": ".py",
   "mimetype": "text/x-python",
   "name": "python",
   "nbconvert_exporter": "python",
   "pygments_lexer": "ipython3",
   "version": "3.10.6"
  }
 },
 "nbformat": 4,
 "nbformat_minor": 2
}
