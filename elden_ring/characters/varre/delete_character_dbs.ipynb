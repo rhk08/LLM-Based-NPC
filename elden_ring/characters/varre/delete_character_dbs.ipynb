{
 "cells": [
  {
   "cell_type": "markdown",
   "metadata": {},
   "source": [
    "Delete state_db_with_summary\n",
    "###### Note: Make sure to restart the kernal for any agents that may currently using this directory"
   ]
  },
  {
   "cell_type": "code",
   "execution_count": null,
   "metadata": {},
   "outputs": [],
   "source": [
    "import os\n",
    "import shutil\n",
    "\n",
    "directory = \"state_db_with_summary\"\n",
    "\n",
    "if os.path.exists(directory):\n",
    "    for root, dirs, files in os.walk(directory):\n",
    "        for file in files:\n",
    "            if file.startswith(\"history\"):\n",
    "                file_path = os.path.join(root, file)\n",
    "                os.remove(file_path)\n",
    "                print(f\"Removed file: {file_path}\")\n",
    "else:\n",
    "    print(f\"No directory found at: {directory}\")"
   ]
  },
  {
   "cell_type": "markdown",
   "metadata": {},
   "source": [
    "Delete state_db\n",
    "###### Note: Make sure to restart the kernal for any agents that may currently using this directory"
   ]
  },
  {
   "cell_type": "code",
   "execution_count": null,
   "metadata": {},
   "outputs": [],
   "source": [
    "import os\n",
    "import shutil\n",
    "\n",
    "directory = \"state_db\"\n",
    "\n",
    "if os.path.exists(directory):\n",
    "    for root, dirs, files in os.walk(directory):\n",
    "        for file in files:\n",
    "            if file.startswith(\"history\"):\n",
    "                file_path = os.path.join(root, file)\n",
    "                os.remove(file_path)\n",
    "                print(f\"Removed file: {file_path}\")\n",
    "else:\n",
    "    print(f\"No directory found at: {directory}\")"
   ]
  },
  {
   "cell_type": "markdown",
   "metadata": {},
   "source": [
    "Delete state_db_with_rag\n",
    "###### Note: Make sure to restart the kernal for any agents that may currently using this directory"
   ]
  },
  {
   "cell_type": "code",
   "execution_count": 3,
   "metadata": {},
   "outputs": [
    {
     "name": "stdout",
     "output_type": "stream",
     "text": [
      "Removed file: state_db_with_rag\\history.db\n",
      "Removed file: state_db_with_rag\\history.db-shm\n",
      "Removed file: state_db_with_rag\\history.db-wal\n",
      "Removed file: conversation_vectordbs\\chroma.sqlite3\n",
      "Removed directory: conversation_vectordbs\\06140a25-1223-4029-9f32-30fd185a0b0b\n"
     ]
    }
   ],
   "source": [
    "import os\n",
    "import shutil\n",
    "\n",
    "directory = \"state_db_with_rag\"\n",
    "\n",
    "if os.path.exists(directory):\n",
    "    for root, dirs, files in os.walk(directory):\n",
    "        for file in files:\n",
    "            if file.startswith(\"history\"):\n",
    "                file_path = os.path.join(root, file)\n",
    "                os.remove(file_path)\n",
    "                print(f\"Removed file: {file_path}\")\n",
    "else:\n",
    "    print(f\"No directory found at: {directory}\")\n",
    "    \n",
    "import os\n",
    "import shutil\n",
    "\n",
    "directory = \"conversation_vectordbs\"\n",
    "\n",
    "if os.path.exists(directory):\n",
    "    for root, dirs, files in os.walk(directory):\n",
    "        for file in files:\n",
    "            file_path = os.path.join(root, file)\n",
    "            os.remove(file_path)\n",
    "            print(f\"Removed file: {file_path}\")\n",
    "        for dir in dirs:\n",
    "            dir_path = os.path.join(root, dir)\n",
    "            shutil.rmtree(dir_path)\n",
    "            print(f\"Removed directory: {dir_path}\")\n",
    "else:\n",
    "    print(f\"No directory found at: {directory}\")"
   ]
  },
  {
   "cell_type": "code",
   "execution_count": null,
   "metadata": {},
   "outputs": [],
   "source": [
    "import os\n",
    "import shutil\n",
    "\n",
    "directory = \"state_db_with_rag_complex\"\n",
    "\n",
    "if os.path.exists(directory):\n",
    "    for root, dirs, files in os.walk(directory):\n",
    "        for file in files:\n",
    "            if file.startswith(\"history\"):\n",
    "                file_path = os.path.join(root, file)\n",
    "                os.remove(file_path)\n",
    "                print(f\"Removed file: {file_path}\")\n",
    "else:\n",
    "    print(f\"No directory found at: {directory}\")\n",
    "    \n",
    "import os\n",
    "import shutil\n",
    "\n",
    "directory = \"conversation_vectordbs_complex\"\n",
    "\n",
    "if os.path.exists(directory):\n",
    "    for root, dirs, files in os.walk(directory):\n",
    "        for file in files:\n",
    "            file_path = os.path.join(root, file)\n",
    "            os.remove(file_path)\n",
    "            print(f\"Removed file: {file_path}\")\n",
    "        for dir in dirs:\n",
    "            dir_path = os.path.join(root, dir)\n",
    "            shutil.rmtree(dir_path)\n",
    "            print(f\"Removed directory: {dir_path}\")\n",
    "else:\n",
    "    print(f\"No directory found at: {directory}\")"
   ]
  },
  {
   "cell_type": "markdown",
   "metadata": {},
   "source": [
    "Delete conversation vectordbs\n",
    "###### Note: Make sure to restart the kernal for any agents that may currently using this directory"
   ]
  },
  {
   "cell_type": "code",
   "execution_count": 8,
   "metadata": {},
   "outputs": [
    {
     "name": "stdout",
     "output_type": "stream",
     "text": [
      "Removed file: state_db_with_rag_summaries\\history.db\n",
      "Removed file: state_db_with_rag_summaries\\history.db-shm\n",
      "Removed file: state_db_with_rag_summaries\\history.db-wal\n",
      "Removed file: summary_vectordbs\\chroma.sqlite3\n",
      "Removed directory: summary_vectordbs\\ac139641-386d-40c4-b18e-9ae21948d03c\n"
     ]
    }
   ],
   "source": [
    "import os\n",
    "import shutil\n",
    "\n",
    "directory = \"state_db_with_rag_summaries\"\n",
    "\n",
    "if os.path.exists(directory):\n",
    "    for root, dirs, files in os.walk(directory):\n",
    "        for file in files:\n",
    "            if file.startswith(\"history\"):\n",
    "                file_path = os.path.join(root, file)\n",
    "                os.remove(file_path)\n",
    "                print(f\"Removed file: {file_path}\")\n",
    "else:\n",
    "    print(f\"No directory found at: {directory}\")\n",
    "    \n",
    "import os\n",
    "import shutil\n",
    "\n",
    "directory = \"summary_vectordbs\"\n",
    "\n",
    "if os.path.exists(directory):\n",
    "    for root, dirs, files in os.walk(directory):\n",
    "        for file in files:\n",
    "            file_path = os.path.join(root, file)\n",
    "            os.remove(file_path)\n",
    "            print(f\"Removed file: {file_path}\")\n",
    "        for dir in dirs:\n",
    "            dir_path = os.path.join(root, dir)\n",
    "            shutil.rmtree(dir_path)\n",
    "            print(f\"Removed directory: {dir_path}\")\n",
    "else:\n",
    "    print(f\"No directory found at: {directory}\")"
   ]
  }
 ],
 "metadata": {
  "kernelspec": {
   "display_name": ".venv",
   "language": "python",
   "name": "python3"
  },
  "language_info": {
   "codemirror_mode": {
    "name": "ipython",
    "version": 3
   },
   "file_extension": ".py",
   "mimetype": "text/x-python",
   "name": "python",
   "nbconvert_exporter": "python",
   "pygments_lexer": "ipython3",
   "version": "3.10.6"
  }
 },
 "nbformat": 4,
 "nbformat_minor": 2
}
